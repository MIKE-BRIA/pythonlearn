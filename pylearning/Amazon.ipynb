{
 "cells": [
  {
   "cell_type": "code",
   "execution_count": 48,
   "id": "9414c761",
   "metadata": {},
   "outputs": [],
   "source": [
    "#import libraries\n",
    "# smtplib is for sending emails to yourself\n",
    "\n",
    "from bs4 import BeautifulSoup\n",
    "import requests\n",
    "import smtplib\n",
    "import time\n",
    "import datetime\n",
    "import pandas as pd"
   ]
  },
  {
   "cell_type": "markdown",
   "id": "5bd334e3",
   "metadata": {},
   "source": [
    "## Adding a date stamp to know when you collected the data"
   ]
  },
  {
   "cell_type": "code",
   "execution_count": 49,
   "id": "600acde0",
   "metadata": {},
   "outputs": [
    {
     "name": "stdout",
     "output_type": "stream",
     "text": [
      "2023-06-20\n"
     ]
    }
   ],
   "source": [
    "import datetime\n",
    "\n",
    "today=datetime.date.today()\n",
    "print(today)"
   ]
  },
  {
   "cell_type": "markdown",
   "id": "fbe4d850",
   "metadata": {},
   "source": [
    "## collecting data from Jumia online shopping website"
   ]
  },
  {
   "cell_type": "code",
   "execution_count": 50,
   "id": "c2f2f717",
   "metadata": {},
   "outputs": [
    {
     "name": "stdout",
     "output_type": "stream",
     "text": [
      "Title: Tecno Pop  7 6.6\"HD+, 2GB RAM+64GB, 8MP, 4G (Dual Sim) 5000MAh - Endless Black\n",
      "Price: KSh 9,999\n",
      "Specifications: Key Features6.6\" HD+ DOT-NOTCH display2GB RAM+ 64GB5MP Front Camera with Flash8MP AI Rear Camera with Dual FlashDual SimAndroid S-GO5000MAh BatteryBack Fingerprint sensorWhat’s in the boxTecno POP 7User manualChargerSpecificationsSKU: TE685MP2J6YDRNAFAMZModel: BF6Production Country: ChinaWeight (kg): 0.19Main Material: PVCShop Type: Jumia Mall\n"
     ]
    }
   ],
   "source": [
    "url= \"https://www.jumia.co.ke/tecno-pop-7-6.6hd-2gb-ram64gb-8mp-4g-dual-sim-5000mah-endless-black-115596135.html\"\n",
    "\n",
    "headers = {\n",
    "    \"User-Agent\": \"Mozilla/5.0 (Windows NT 10.0; Win64; x64) AppleWebKit/537.36 (KHTML, like Gecko) Chrome/114.0.0.0 Safari/537.36\"\n",
    "}\n",
    "\n",
    "response = requests.get(url, headers=headers)\n",
    "\n",
    "page = response.content\n",
    "soup= BeautifulSoup(page, \"html.parser\")\n",
    "\n",
    "#title\n",
    "title_element = soup.find(\"h1\", class_=\"-fs20 -pts -pbxs\")\n",
    "price_element = soup.find(\"span\", class_=\"-b -ltr -tal -fs24\")\n",
    "specific_element=soup.find(\"div\", class_=\"row -pas\")\n",
    "\n",
    "if title_element and price_element:\n",
    "    title= title_element.get_text(strip=True)\n",
    "    price= price_element.get_text(strip=True)\n",
    "    specifications=specific_element.get_text(strip=True)\n",
    "    print(\"Title:\", title)\n",
    "    print(\"Price:\", price)\n",
    "    print(\"Specifications:\", specifications)\n",
    "else:\n",
    "    print(\"product title and price not found\")\n"
   ]
  },
  {
   "cell_type": "markdown",
   "id": "98c7e97d",
   "metadata": {},
   "source": [
    "## putting the data collected in a csv file"
   ]
  },
  {
   "cell_type": "code",
   "execution_count": 51,
   "id": "0e601ddc",
   "metadata": {},
   "outputs": [],
   "source": [
    "import csv\n",
    "\n",
    "header = ['Title', 'Price','Date data collected', 'Specification']\n",
    "data= [title, price, today, specifications]\n",
    "\n",
    "file_path=\"Desktop/jumia/Jumiadataset.csv\"\n",
    "with open(file_path, 'w', newline='', encoding='UTF8') as f:\n",
    "    writer = csv.writer(f)\n",
    "    writer.writerow(header)\n",
    "    writer.writerow(data)"
   ]
  },
  {
   "cell_type": "markdown",
   "id": "2c9d65b4",
   "metadata": {},
   "source": [
    "## Reading the data"
   ]
  },
  {
   "cell_type": "code",
   "execution_count": 52,
   "id": "f79f43d3",
   "metadata": {},
   "outputs": [
    {
     "data": {
      "text/html": [
       "<div>\n",
       "<style scoped>\n",
       "    .dataframe tbody tr th:only-of-type {\n",
       "        vertical-align: middle;\n",
       "    }\n",
       "\n",
       "    .dataframe tbody tr th {\n",
       "        vertical-align: top;\n",
       "    }\n",
       "\n",
       "    .dataframe thead th {\n",
       "        text-align: right;\n",
       "    }\n",
       "</style>\n",
       "<table border=\"1\" class=\"dataframe\">\n",
       "  <thead>\n",
       "    <tr style=\"text-align: right;\">\n",
       "      <th></th>\n",
       "      <th>Title</th>\n",
       "      <th>Price</th>\n",
       "      <th>Date data collected</th>\n",
       "      <th>Specification</th>\n",
       "    </tr>\n",
       "  </thead>\n",
       "  <tbody>\n",
       "    <tr>\n",
       "      <th>0</th>\n",
       "      <td>Tecno Pop  7 6.6\"HD+, 2GB RAM+64GB, 8MP, 4G (D...</td>\n",
       "      <td>KSh 9,999</td>\n",
       "      <td>2023-06-20</td>\n",
       "      <td>Key Features6.6\" HD+ DOT-NOTCH display2GB RAM+...</td>\n",
       "    </tr>\n",
       "  </tbody>\n",
       "</table>\n",
       "</div>"
      ],
      "text/plain": [
       "                                               Title      Price  \\\n",
       "0  Tecno Pop  7 6.6\"HD+, 2GB RAM+64GB, 8MP, 4G (D...  KSh 9,999   \n",
       "\n",
       "  Date data collected                                      Specification  \n",
       "0          2023-06-20  Key Features6.6\" HD+ DOT-NOTCH display2GB RAM+...  "
      ]
     },
     "execution_count": 52,
     "metadata": {},
     "output_type": "execute_result"
    }
   ],
   "source": [
    "df = pd.read_csv(r'Desktop/jumia/Jumiadataset.csv')\n",
    "df"
   ]
  },
  {
   "cell_type": "markdown",
   "id": "d378a6d3",
   "metadata": {},
   "source": [
    "## Appending data to the csv"
   ]
  },
  {
   "cell_type": "code",
   "execution_count": 53,
   "id": "ec9324f4",
   "metadata": {},
   "outputs": [],
   "source": [
    "with open(file_path, 'a+', newline='', encoding='UTF8') as f:\n",
    "    writer = csv.writer(f)\n",
    "    writer.writerow(data)"
   ]
  },
  {
   "cell_type": "code",
   "execution_count": 54,
   "id": "8f43a5a5",
   "metadata": {},
   "outputs": [
    {
     "data": {
      "text/html": [
       "<div>\n",
       "<style scoped>\n",
       "    .dataframe tbody tr th:only-of-type {\n",
       "        vertical-align: middle;\n",
       "    }\n",
       "\n",
       "    .dataframe tbody tr th {\n",
       "        vertical-align: top;\n",
       "    }\n",
       "\n",
       "    .dataframe thead th {\n",
       "        text-align: right;\n",
       "    }\n",
       "</style>\n",
       "<table border=\"1\" class=\"dataframe\">\n",
       "  <thead>\n",
       "    <tr style=\"text-align: right;\">\n",
       "      <th></th>\n",
       "      <th>Title</th>\n",
       "      <th>Price</th>\n",
       "      <th>Date data collected</th>\n",
       "      <th>Specification</th>\n",
       "    </tr>\n",
       "  </thead>\n",
       "  <tbody>\n",
       "    <tr>\n",
       "      <th>0</th>\n",
       "      <td>Tecno Pop  7 6.6\"HD+, 2GB RAM+64GB, 8MP, 4G (D...</td>\n",
       "      <td>KSh 9,999</td>\n",
       "      <td>2023-06-20</td>\n",
       "      <td>Key Features6.6\" HD+ DOT-NOTCH display2GB RAM+...</td>\n",
       "    </tr>\n",
       "  </tbody>\n",
       "</table>\n",
       "</div>"
      ],
      "text/plain": [
       "                                               Title      Price  \\\n",
       "0  Tecno Pop  7 6.6\"HD+, 2GB RAM+64GB, 8MP, 4G (D...  KSh 9,999   \n",
       "\n",
       "  Date data collected                                      Specification  \n",
       "0          2023-06-20  Key Features6.6\" HD+ DOT-NOTCH display2GB RAM+...  "
      ]
     },
     "execution_count": 54,
     "metadata": {},
     "output_type": "execute_result"
    }
   ],
   "source": [
    "df"
   ]
  },
  {
   "cell_type": "markdown",
   "id": "49d95d87",
   "metadata": {},
   "source": [
    "## Automating the process of data colection"
   ]
  },
  {
   "cell_type": "code",
   "execution_count": 55,
   "id": "e5fd65ab",
   "metadata": {},
   "outputs": [],
   "source": [
    "def check_price():\n",
    "    url= \"https://www.jumia.co.ke/tecno-pop-7-6.6hd-2gb-ram64gb-8mp-4g-dual-sim-5000mah-endless-black-115596135.html\"\n",
    "\n",
    "    headers = {\n",
    "        \"User-Agent\": \"Mozilla/5.0 (Windows NT 10.0; Win64; x64) AppleWebKit/537.36 (KHTML, like Gecko) Chrome/114.0.0.0 Safari/537.36\"\n",
    "    }\n",
    "\n",
    "    response = requests.get(url, headers=headers)\n",
    "\n",
    "    page = response.content\n",
    "    soup= BeautifulSoup(page, \"html.parser\")\n",
    "\n",
    "    #title\n",
    "    title_element = soup.find(\"h1\", class_=\"-fs20 -pts -pbxs\")\n",
    "    price_element = soup.find(\"span\", class_=\"-b -ltr -tal -fs24\")\n",
    "    specific_element=soup.find(\"div\", class_=\"row -pas\")\n",
    "    \n",
    "    title= title_element.get_text(strip=True)\n",
    "    price= price_element.get_text(strip=True)\n",
    "    specifications=specific_element.get_text(strip=True)\n",
    "    \n",
    "    import datetime\n",
    "\n",
    "    today=datetime.date.today()\n",
    "    import csv\n",
    "\n",
    "    header = ['Title', 'Price','Date data collected', 'Specification']\n",
    "    data= [title, price, today, specifications]\n",
    "    \n",
    "    with open(file_path, 'a+', newline='', encoding='UTF8') as f:\n",
    "        writer = csv.writer(f)\n",
    "        writer.writerow(data)\n",
    "    \n",
    "    "
   ]
  },
  {
   "cell_type": "markdown",
   "id": "01d175a0",
   "metadata": {},
   "source": [
    "## creating a timer to chech the data"
   ]
  },
  {
   "cell_type": "code",
   "execution_count": null,
   "id": "c4feac62",
   "metadata": {},
   "outputs": [],
   "source": [
    "while (True):\n",
    "    check_price()\n",
    "    time.sleep(1)"
   ]
  },
  {
   "cell_type": "markdown",
   "id": "19ae227d",
   "metadata": {},
   "source": [
    "### data collected after 25 seconds"
   ]
  },
  {
   "cell_type": "code",
   "execution_count": 57,
   "id": "0ff259c5",
   "metadata": {},
   "outputs": [
    {
     "data": {
      "text/html": [
       "<div>\n",
       "<style scoped>\n",
       "    .dataframe tbody tr th:only-of-type {\n",
       "        vertical-align: middle;\n",
       "    }\n",
       "\n",
       "    .dataframe tbody tr th {\n",
       "        vertical-align: top;\n",
       "    }\n",
       "\n",
       "    .dataframe thead th {\n",
       "        text-align: right;\n",
       "    }\n",
       "</style>\n",
       "<table border=\"1\" class=\"dataframe\">\n",
       "  <thead>\n",
       "    <tr style=\"text-align: right;\">\n",
       "      <th></th>\n",
       "      <th>Title</th>\n",
       "      <th>Price</th>\n",
       "      <th>Date data collected</th>\n",
       "      <th>Specification</th>\n",
       "    </tr>\n",
       "  </thead>\n",
       "  <tbody>\n",
       "    <tr>\n",
       "      <th>0</th>\n",
       "      <td>Tecno Pop  7 6.6\"HD+, 2GB RAM+64GB, 8MP, 4G (D...</td>\n",
       "      <td>KSh 9,999</td>\n",
       "      <td>2023-06-20</td>\n",
       "      <td>Key Features6.6\" HD+ DOT-NOTCH display2GB RAM+...</td>\n",
       "    </tr>\n",
       "    <tr>\n",
       "      <th>1</th>\n",
       "      <td>Tecno Pop  7 6.6\"HD+, 2GB RAM+64GB, 8MP, 4G (D...</td>\n",
       "      <td>KSh 9,999</td>\n",
       "      <td>2023-06-20</td>\n",
       "      <td>Key Features6.6\" HD+ DOT-NOTCH display2GB RAM+...</td>\n",
       "    </tr>\n",
       "    <tr>\n",
       "      <th>2</th>\n",
       "      <td>Tecno Pop  7 6.6\"HD+, 2GB RAM+64GB, 8MP, 4G (D...</td>\n",
       "      <td>KSh 9,999</td>\n",
       "      <td>2023-06-20</td>\n",
       "      <td>Key Features6.6\" HD+ DOT-NOTCH display2GB RAM+...</td>\n",
       "    </tr>\n",
       "    <tr>\n",
       "      <th>3</th>\n",
       "      <td>Tecno Pop  7 6.6\"HD+, 2GB RAM+64GB, 8MP, 4G (D...</td>\n",
       "      <td>KSh 9,999</td>\n",
       "      <td>2023-06-20</td>\n",
       "      <td>Key Features6.6\" HD+ DOT-NOTCH display2GB RAM+...</td>\n",
       "    </tr>\n",
       "    <tr>\n",
       "      <th>4</th>\n",
       "      <td>Tecno Pop  7 6.6\"HD+, 2GB RAM+64GB, 8MP, 4G (D...</td>\n",
       "      <td>KSh 9,999</td>\n",
       "      <td>2023-06-20</td>\n",
       "      <td>Key Features6.6\" HD+ DOT-NOTCH display2GB RAM+...</td>\n",
       "    </tr>\n",
       "    <tr>\n",
       "      <th>5</th>\n",
       "      <td>Tecno Pop  7 6.6\"HD+, 2GB RAM+64GB, 8MP, 4G (D...</td>\n",
       "      <td>KSh 9,999</td>\n",
       "      <td>2023-06-20</td>\n",
       "      <td>Key Features6.6\" HD+ DOT-NOTCH display2GB RAM+...</td>\n",
       "    </tr>\n",
       "    <tr>\n",
       "      <th>6</th>\n",
       "      <td>Tecno Pop  7 6.6\"HD+, 2GB RAM+64GB, 8MP, 4G (D...</td>\n",
       "      <td>KSh 9,999</td>\n",
       "      <td>2023-06-20</td>\n",
       "      <td>Key Features6.6\" HD+ DOT-NOTCH display2GB RAM+...</td>\n",
       "    </tr>\n",
       "    <tr>\n",
       "      <th>7</th>\n",
       "      <td>Tecno Pop  7 6.6\"HD+, 2GB RAM+64GB, 8MP, 4G (D...</td>\n",
       "      <td>KSh 9,999</td>\n",
       "      <td>2023-06-20</td>\n",
       "      <td>Key Features6.6\" HD+ DOT-NOTCH display2GB RAM+...</td>\n",
       "    </tr>\n",
       "    <tr>\n",
       "      <th>8</th>\n",
       "      <td>Tecno Pop  7 6.6\"HD+, 2GB RAM+64GB, 8MP, 4G (D...</td>\n",
       "      <td>KSh 9,999</td>\n",
       "      <td>2023-06-20</td>\n",
       "      <td>Key Features6.6\" HD+ DOT-NOTCH display2GB RAM+...</td>\n",
       "    </tr>\n",
       "    <tr>\n",
       "      <th>9</th>\n",
       "      <td>Tecno Pop  7 6.6\"HD+, 2GB RAM+64GB, 8MP, 4G (D...</td>\n",
       "      <td>KSh 9,999</td>\n",
       "      <td>2023-06-20</td>\n",
       "      <td>Key Features6.6\" HD+ DOT-NOTCH display2GB RAM+...</td>\n",
       "    </tr>\n",
       "    <tr>\n",
       "      <th>10</th>\n",
       "      <td>Tecno Pop  7 6.6\"HD+, 2GB RAM+64GB, 8MP, 4G (D...</td>\n",
       "      <td>KSh 9,999</td>\n",
       "      <td>2023-06-20</td>\n",
       "      <td>Key Features6.6\" HD+ DOT-NOTCH display2GB RAM+...</td>\n",
       "    </tr>\n",
       "    <tr>\n",
       "      <th>11</th>\n",
       "      <td>Tecno Pop  7 6.6\"HD+, 2GB RAM+64GB, 8MP, 4G (D...</td>\n",
       "      <td>KSh 9,999</td>\n",
       "      <td>2023-06-20</td>\n",
       "      <td>Key Features6.6\" HD+ DOT-NOTCH display2GB RAM+...</td>\n",
       "    </tr>\n",
       "    <tr>\n",
       "      <th>12</th>\n",
       "      <td>Tecno Pop  7 6.6\"HD+, 2GB RAM+64GB, 8MP, 4G (D...</td>\n",
       "      <td>KSh 9,999</td>\n",
       "      <td>2023-06-20</td>\n",
       "      <td>Key Features6.6\" HD+ DOT-NOTCH display2GB RAM+...</td>\n",
       "    </tr>\n",
       "    <tr>\n",
       "      <th>13</th>\n",
       "      <td>Tecno Pop  7 6.6\"HD+, 2GB RAM+64GB, 8MP, 4G (D...</td>\n",
       "      <td>KSh 9,999</td>\n",
       "      <td>2023-06-20</td>\n",
       "      <td>Key Features6.6\" HD+ DOT-NOTCH display2GB RAM+...</td>\n",
       "    </tr>\n",
       "    <tr>\n",
       "      <th>14</th>\n",
       "      <td>Tecno Pop  7 6.6\"HD+, 2GB RAM+64GB, 8MP, 4G (D...</td>\n",
       "      <td>KSh 9,999</td>\n",
       "      <td>2023-06-20</td>\n",
       "      <td>Key Features6.6\" HD+ DOT-NOTCH display2GB RAM+...</td>\n",
       "    </tr>\n",
       "    <tr>\n",
       "      <th>15</th>\n",
       "      <td>Tecno Pop  7 6.6\"HD+, 2GB RAM+64GB, 8MP, 4G (D...</td>\n",
       "      <td>KSh 9,999</td>\n",
       "      <td>2023-06-20</td>\n",
       "      <td>Key Features6.6\" HD+ DOT-NOTCH display2GB RAM+...</td>\n",
       "    </tr>\n",
       "    <tr>\n",
       "      <th>16</th>\n",
       "      <td>Tecno Pop  7 6.6\"HD+, 2GB RAM+64GB, 8MP, 4G (D...</td>\n",
       "      <td>KSh 9,999</td>\n",
       "      <td>2023-06-20</td>\n",
       "      <td>Key Features6.6\" HD+ DOT-NOTCH display2GB RAM+...</td>\n",
       "    </tr>\n",
       "    <tr>\n",
       "      <th>17</th>\n",
       "      <td>Tecno Pop  7 6.6\"HD+, 2GB RAM+64GB, 8MP, 4G (D...</td>\n",
       "      <td>KSh 9,999</td>\n",
       "      <td>2023-06-20</td>\n",
       "      <td>Key Features6.6\" HD+ DOT-NOTCH display2GB RAM+...</td>\n",
       "    </tr>\n",
       "    <tr>\n",
       "      <th>18</th>\n",
       "      <td>Tecno Pop  7 6.6\"HD+, 2GB RAM+64GB, 8MP, 4G (D...</td>\n",
       "      <td>KSh 9,999</td>\n",
       "      <td>2023-06-20</td>\n",
       "      <td>Key Features6.6\" HD+ DOT-NOTCH display2GB RAM+...</td>\n",
       "    </tr>\n",
       "    <tr>\n",
       "      <th>19</th>\n",
       "      <td>Tecno Pop  7 6.6\"HD+, 2GB RAM+64GB, 8MP, 4G (D...</td>\n",
       "      <td>KSh 9,999</td>\n",
       "      <td>2023-06-20</td>\n",
       "      <td>Key Features6.6\" HD+ DOT-NOTCH display2GB RAM+...</td>\n",
       "    </tr>\n",
       "    <tr>\n",
       "      <th>20</th>\n",
       "      <td>Tecno Pop  7 6.6\"HD+, 2GB RAM+64GB, 8MP, 4G (D...</td>\n",
       "      <td>KSh 9,999</td>\n",
       "      <td>2023-06-20</td>\n",
       "      <td>Key Features6.6\" HD+ DOT-NOTCH display2GB RAM+...</td>\n",
       "    </tr>\n",
       "    <tr>\n",
       "      <th>21</th>\n",
       "      <td>Tecno Pop  7 6.6\"HD+, 2GB RAM+64GB, 8MP, 4G (D...</td>\n",
       "      <td>KSh 9,999</td>\n",
       "      <td>2023-06-20</td>\n",
       "      <td>Key Features6.6\" HD+ DOT-NOTCH display2GB RAM+...</td>\n",
       "    </tr>\n",
       "    <tr>\n",
       "      <th>22</th>\n",
       "      <td>Tecno Pop  7 6.6\"HD+, 2GB RAM+64GB, 8MP, 4G (D...</td>\n",
       "      <td>KSh 9,999</td>\n",
       "      <td>2023-06-20</td>\n",
       "      <td>Key Features6.6\" HD+ DOT-NOTCH display2GB RAM+...</td>\n",
       "    </tr>\n",
       "    <tr>\n",
       "      <th>23</th>\n",
       "      <td>Tecno Pop  7 6.6\"HD+, 2GB RAM+64GB, 8MP, 4G (D...</td>\n",
       "      <td>KSh 9,999</td>\n",
       "      <td>2023-06-20</td>\n",
       "      <td>Key Features6.6\" HD+ DOT-NOTCH display2GB RAM+...</td>\n",
       "    </tr>\n",
       "    <tr>\n",
       "      <th>24</th>\n",
       "      <td>Tecno Pop  7 6.6\"HD+, 2GB RAM+64GB, 8MP, 4G (D...</td>\n",
       "      <td>KSh 9,999</td>\n",
       "      <td>2023-06-20</td>\n",
       "      <td>Key Features6.6\" HD+ DOT-NOTCH display2GB RAM+...</td>\n",
       "    </tr>\n",
       "    <tr>\n",
       "      <th>25</th>\n",
       "      <td>Tecno Pop  7 6.6\"HD+, 2GB RAM+64GB, 8MP, 4G (D...</td>\n",
       "      <td>KSh 9,999</td>\n",
       "      <td>2023-06-20</td>\n",
       "      <td>Key Features6.6\" HD+ DOT-NOTCH display2GB RAM+...</td>\n",
       "    </tr>\n",
       "    <tr>\n",
       "      <th>26</th>\n",
       "      <td>Tecno Pop  7 6.6\"HD+, 2GB RAM+64GB, 8MP, 4G (D...</td>\n",
       "      <td>KSh 9,999</td>\n",
       "      <td>2023-06-20</td>\n",
       "      <td>Key Features6.6\" HD+ DOT-NOTCH display2GB RAM+...</td>\n",
       "    </tr>\n",
       "  </tbody>\n",
       "</table>\n",
       "</div>"
      ],
      "text/plain": [
       "                                                Title      Price  \\\n",
       "0   Tecno Pop  7 6.6\"HD+, 2GB RAM+64GB, 8MP, 4G (D...  KSh 9,999   \n",
       "1   Tecno Pop  7 6.6\"HD+, 2GB RAM+64GB, 8MP, 4G (D...  KSh 9,999   \n",
       "2   Tecno Pop  7 6.6\"HD+, 2GB RAM+64GB, 8MP, 4G (D...  KSh 9,999   \n",
       "3   Tecno Pop  7 6.6\"HD+, 2GB RAM+64GB, 8MP, 4G (D...  KSh 9,999   \n",
       "4   Tecno Pop  7 6.6\"HD+, 2GB RAM+64GB, 8MP, 4G (D...  KSh 9,999   \n",
       "5   Tecno Pop  7 6.6\"HD+, 2GB RAM+64GB, 8MP, 4G (D...  KSh 9,999   \n",
       "6   Tecno Pop  7 6.6\"HD+, 2GB RAM+64GB, 8MP, 4G (D...  KSh 9,999   \n",
       "7   Tecno Pop  7 6.6\"HD+, 2GB RAM+64GB, 8MP, 4G (D...  KSh 9,999   \n",
       "8   Tecno Pop  7 6.6\"HD+, 2GB RAM+64GB, 8MP, 4G (D...  KSh 9,999   \n",
       "9   Tecno Pop  7 6.6\"HD+, 2GB RAM+64GB, 8MP, 4G (D...  KSh 9,999   \n",
       "10  Tecno Pop  7 6.6\"HD+, 2GB RAM+64GB, 8MP, 4G (D...  KSh 9,999   \n",
       "11  Tecno Pop  7 6.6\"HD+, 2GB RAM+64GB, 8MP, 4G (D...  KSh 9,999   \n",
       "12  Tecno Pop  7 6.6\"HD+, 2GB RAM+64GB, 8MP, 4G (D...  KSh 9,999   \n",
       "13  Tecno Pop  7 6.6\"HD+, 2GB RAM+64GB, 8MP, 4G (D...  KSh 9,999   \n",
       "14  Tecno Pop  7 6.6\"HD+, 2GB RAM+64GB, 8MP, 4G (D...  KSh 9,999   \n",
       "15  Tecno Pop  7 6.6\"HD+, 2GB RAM+64GB, 8MP, 4G (D...  KSh 9,999   \n",
       "16  Tecno Pop  7 6.6\"HD+, 2GB RAM+64GB, 8MP, 4G (D...  KSh 9,999   \n",
       "17  Tecno Pop  7 6.6\"HD+, 2GB RAM+64GB, 8MP, 4G (D...  KSh 9,999   \n",
       "18  Tecno Pop  7 6.6\"HD+, 2GB RAM+64GB, 8MP, 4G (D...  KSh 9,999   \n",
       "19  Tecno Pop  7 6.6\"HD+, 2GB RAM+64GB, 8MP, 4G (D...  KSh 9,999   \n",
       "20  Tecno Pop  7 6.6\"HD+, 2GB RAM+64GB, 8MP, 4G (D...  KSh 9,999   \n",
       "21  Tecno Pop  7 6.6\"HD+, 2GB RAM+64GB, 8MP, 4G (D...  KSh 9,999   \n",
       "22  Tecno Pop  7 6.6\"HD+, 2GB RAM+64GB, 8MP, 4G (D...  KSh 9,999   \n",
       "23  Tecno Pop  7 6.6\"HD+, 2GB RAM+64GB, 8MP, 4G (D...  KSh 9,999   \n",
       "24  Tecno Pop  7 6.6\"HD+, 2GB RAM+64GB, 8MP, 4G (D...  KSh 9,999   \n",
       "25  Tecno Pop  7 6.6\"HD+, 2GB RAM+64GB, 8MP, 4G (D...  KSh 9,999   \n",
       "26  Tecno Pop  7 6.6\"HD+, 2GB RAM+64GB, 8MP, 4G (D...  KSh 9,999   \n",
       "\n",
       "   Date data collected                                      Specification  \n",
       "0           2023-06-20  Key Features6.6\" HD+ DOT-NOTCH display2GB RAM+...  \n",
       "1           2023-06-20  Key Features6.6\" HD+ DOT-NOTCH display2GB RAM+...  \n",
       "2           2023-06-20  Key Features6.6\" HD+ DOT-NOTCH display2GB RAM+...  \n",
       "3           2023-06-20  Key Features6.6\" HD+ DOT-NOTCH display2GB RAM+...  \n",
       "4           2023-06-20  Key Features6.6\" HD+ DOT-NOTCH display2GB RAM+...  \n",
       "5           2023-06-20  Key Features6.6\" HD+ DOT-NOTCH display2GB RAM+...  \n",
       "6           2023-06-20  Key Features6.6\" HD+ DOT-NOTCH display2GB RAM+...  \n",
       "7           2023-06-20  Key Features6.6\" HD+ DOT-NOTCH display2GB RAM+...  \n",
       "8           2023-06-20  Key Features6.6\" HD+ DOT-NOTCH display2GB RAM+...  \n",
       "9           2023-06-20  Key Features6.6\" HD+ DOT-NOTCH display2GB RAM+...  \n",
       "10          2023-06-20  Key Features6.6\" HD+ DOT-NOTCH display2GB RAM+...  \n",
       "11          2023-06-20  Key Features6.6\" HD+ DOT-NOTCH display2GB RAM+...  \n",
       "12          2023-06-20  Key Features6.6\" HD+ DOT-NOTCH display2GB RAM+...  \n",
       "13          2023-06-20  Key Features6.6\" HD+ DOT-NOTCH display2GB RAM+...  \n",
       "14          2023-06-20  Key Features6.6\" HD+ DOT-NOTCH display2GB RAM+...  \n",
       "15          2023-06-20  Key Features6.6\" HD+ DOT-NOTCH display2GB RAM+...  \n",
       "16          2023-06-20  Key Features6.6\" HD+ DOT-NOTCH display2GB RAM+...  \n",
       "17          2023-06-20  Key Features6.6\" HD+ DOT-NOTCH display2GB RAM+...  \n",
       "18          2023-06-20  Key Features6.6\" HD+ DOT-NOTCH display2GB RAM+...  \n",
       "19          2023-06-20  Key Features6.6\" HD+ DOT-NOTCH display2GB RAM+...  \n",
       "20          2023-06-20  Key Features6.6\" HD+ DOT-NOTCH display2GB RAM+...  \n",
       "21          2023-06-20  Key Features6.6\" HD+ DOT-NOTCH display2GB RAM+...  \n",
       "22          2023-06-20  Key Features6.6\" HD+ DOT-NOTCH display2GB RAM+...  \n",
       "23          2023-06-20  Key Features6.6\" HD+ DOT-NOTCH display2GB RAM+...  \n",
       "24          2023-06-20  Key Features6.6\" HD+ DOT-NOTCH display2GB RAM+...  \n",
       "25          2023-06-20  Key Features6.6\" HD+ DOT-NOTCH display2GB RAM+...  \n",
       "26          2023-06-20  Key Features6.6\" HD+ DOT-NOTCH display2GB RAM+...  "
      ]
     },
     "execution_count": 57,
     "metadata": {},
     "output_type": "execute_result"
    }
   ],
   "source": [
    "df = pd.read_csv(r'Desktop/jumia/Jumiadataset.csv')\n",
    "df"
   ]
  },
  {
   "cell_type": "code",
   "execution_count": null,
   "id": "8a7d4b24",
   "metadata": {},
   "outputs": [],
   "source": []
  },
  {
   "cell_type": "code",
   "execution_count": null,
   "id": "d9de9c0c",
   "metadata": {},
   "outputs": [],
   "source": []
  },
  {
   "cell_type": "code",
   "execution_count": null,
   "id": "8e08b5b0",
   "metadata": {},
   "outputs": [],
   "source": []
  },
  {
   "cell_type": "code",
   "execution_count": null,
   "id": "cdb2c02c",
   "metadata": {},
   "outputs": [],
   "source": []
  },
  {
   "cell_type": "code",
   "execution_count": null,
   "id": "d9c220aa",
   "metadata": {},
   "outputs": [],
   "source": []
  },
  {
   "cell_type": "code",
   "execution_count": null,
   "id": "4bdc2c36",
   "metadata": {},
   "outputs": [],
   "source": []
  },
  {
   "cell_type": "code",
   "execution_count": null,
   "id": "4d7854d6",
   "metadata": {},
   "outputs": [],
   "source": []
  },
  {
   "cell_type": "code",
   "execution_count": null,
   "id": "fea29a0b",
   "metadata": {},
   "outputs": [],
   "source": []
  },
  {
   "cell_type": "code",
   "execution_count": null,
   "id": "be8bcaf2",
   "metadata": {},
   "outputs": [],
   "source": []
  },
  {
   "cell_type": "code",
   "execution_count": null,
   "id": "919ae7df",
   "metadata": {},
   "outputs": [],
   "source": []
  },
  {
   "cell_type": "code",
   "execution_count": null,
   "id": "85436a09",
   "metadata": {},
   "outputs": [],
   "source": []
  },
  {
   "cell_type": "code",
   "execution_count": null,
   "id": "ee61713a",
   "metadata": {},
   "outputs": [],
   "source": []
  },
  {
   "cell_type": "code",
   "execution_count": null,
   "id": "a9f7adaf",
   "metadata": {},
   "outputs": [],
   "source": []
  },
  {
   "cell_type": "code",
   "execution_count": null,
   "id": "b084acea",
   "metadata": {},
   "outputs": [],
   "source": []
  },
  {
   "cell_type": "code",
   "execution_count": null,
   "id": "cc1c1422",
   "metadata": {},
   "outputs": [],
   "source": []
  },
  {
   "cell_type": "code",
   "execution_count": null,
   "id": "fc5a9568",
   "metadata": {},
   "outputs": [],
   "source": []
  },
  {
   "cell_type": "code",
   "execution_count": null,
   "id": "a1c6bed4",
   "metadata": {},
   "outputs": [],
   "source": []
  },
  {
   "cell_type": "code",
   "execution_count": null,
   "id": "81a68956",
   "metadata": {},
   "outputs": [],
   "source": []
  },
  {
   "cell_type": "code",
   "execution_count": null,
   "id": "ffa257da",
   "metadata": {},
   "outputs": [],
   "source": []
  },
  {
   "cell_type": "code",
   "execution_count": null,
   "id": "5392bcf8",
   "metadata": {},
   "outputs": [],
   "source": []
  },
  {
   "cell_type": "code",
   "execution_count": null,
   "id": "b43686a2",
   "metadata": {},
   "outputs": [],
   "source": []
  },
  {
   "cell_type": "code",
   "execution_count": null,
   "id": "7dd36925",
   "metadata": {},
   "outputs": [],
   "source": []
  },
  {
   "cell_type": "code",
   "execution_count": null,
   "id": "e3ce92c1",
   "metadata": {},
   "outputs": [],
   "source": []
  },
  {
   "cell_type": "code",
   "execution_count": null,
   "id": "ad829112",
   "metadata": {},
   "outputs": [],
   "source": []
  },
  {
   "cell_type": "code",
   "execution_count": null,
   "id": "b95aa1b3",
   "metadata": {},
   "outputs": [],
   "source": []
  },
  {
   "cell_type": "code",
   "execution_count": null,
   "id": "e6bb649b",
   "metadata": {},
   "outputs": [],
   "source": []
  },
  {
   "cell_type": "code",
   "execution_count": null,
   "id": "612e6d12",
   "metadata": {},
   "outputs": [],
   "source": []
  },
  {
   "cell_type": "code",
   "execution_count": null,
   "id": "e6bc2ad9",
   "metadata": {},
   "outputs": [],
   "source": []
  },
  {
   "cell_type": "code",
   "execution_count": null,
   "id": "99ca3ebb",
   "metadata": {},
   "outputs": [],
   "source": []
  },
  {
   "cell_type": "code",
   "execution_count": null,
   "id": "3986c6dc",
   "metadata": {},
   "outputs": [],
   "source": []
  },
  {
   "cell_type": "code",
   "execution_count": null,
   "id": "ab33b944",
   "metadata": {},
   "outputs": [],
   "source": []
  },
  {
   "cell_type": "code",
   "execution_count": null,
   "id": "28a411ec",
   "metadata": {},
   "outputs": [],
   "source": []
  },
  {
   "cell_type": "code",
   "execution_count": null,
   "id": "52fb5edb",
   "metadata": {},
   "outputs": [],
   "source": []
  },
  {
   "cell_type": "code",
   "execution_count": null,
   "id": "31561ed2",
   "metadata": {},
   "outputs": [],
   "source": []
  },
  {
   "cell_type": "code",
   "execution_count": null,
   "id": "f9b0a8b1",
   "metadata": {},
   "outputs": [],
   "source": []
  },
  {
   "cell_type": "code",
   "execution_count": null,
   "id": "bd24db65",
   "metadata": {},
   "outputs": [],
   "source": []
  },
  {
   "cell_type": "code",
   "execution_count": null,
   "id": "e4c013b7",
   "metadata": {},
   "outputs": [],
   "source": []
  },
  {
   "cell_type": "code",
   "execution_count": null,
   "id": "f733b954",
   "metadata": {},
   "outputs": [],
   "source": []
  },
  {
   "cell_type": "code",
   "execution_count": null,
   "id": "eae42d3f",
   "metadata": {},
   "outputs": [],
   "source": []
  },
  {
   "cell_type": "code",
   "execution_count": null,
   "id": "09c42221",
   "metadata": {},
   "outputs": [],
   "source": []
  },
  {
   "cell_type": "code",
   "execution_count": null,
   "id": "7bfbb66b",
   "metadata": {},
   "outputs": [],
   "source": []
  },
  {
   "cell_type": "code",
   "execution_count": null,
   "id": "82aacdd1",
   "metadata": {},
   "outputs": [],
   "source": []
  },
  {
   "cell_type": "code",
   "execution_count": null,
   "id": "2a000828",
   "metadata": {},
   "outputs": [],
   "source": []
  },
  {
   "cell_type": "code",
   "execution_count": null,
   "id": "2b4dad52",
   "metadata": {},
   "outputs": [],
   "source": []
  },
  {
   "cell_type": "code",
   "execution_count": null,
   "id": "807c9a7f",
   "metadata": {},
   "outputs": [],
   "source": []
  },
  {
   "cell_type": "code",
   "execution_count": null,
   "id": "a4456249",
   "metadata": {},
   "outputs": [],
   "source": []
  },
  {
   "cell_type": "code",
   "execution_count": null,
   "id": "83af28ee",
   "metadata": {},
   "outputs": [],
   "source": []
  },
  {
   "cell_type": "code",
   "execution_count": null,
   "id": "8bfe8977",
   "metadata": {},
   "outputs": [],
   "source": []
  },
  {
   "cell_type": "code",
   "execution_count": null,
   "id": "c6838c79",
   "metadata": {},
   "outputs": [],
   "source": []
  },
  {
   "cell_type": "code",
   "execution_count": null,
   "id": "5bb6f58f",
   "metadata": {},
   "outputs": [],
   "source": []
  },
  {
   "cell_type": "code",
   "execution_count": null,
   "id": "89a5b61f",
   "metadata": {},
   "outputs": [],
   "source": []
  },
  {
   "cell_type": "code",
   "execution_count": null,
   "id": "9c88f0c1",
   "metadata": {},
   "outputs": [],
   "source": []
  },
  {
   "cell_type": "code",
   "execution_count": null,
   "id": "975a2c63",
   "metadata": {},
   "outputs": [],
   "source": []
  },
  {
   "cell_type": "code",
   "execution_count": null,
   "id": "f0cb4432",
   "metadata": {},
   "outputs": [],
   "source": []
  },
  {
   "cell_type": "code",
   "execution_count": null,
   "id": "2352849f",
   "metadata": {},
   "outputs": [],
   "source": []
  },
  {
   "cell_type": "code",
   "execution_count": null,
   "id": "3b11839c",
   "metadata": {},
   "outputs": [],
   "source": []
  },
  {
   "cell_type": "code",
   "execution_count": null,
   "id": "5e540227",
   "metadata": {},
   "outputs": [],
   "source": []
  },
  {
   "cell_type": "code",
   "execution_count": null,
   "id": "67103741",
   "metadata": {},
   "outputs": [],
   "source": []
  },
  {
   "cell_type": "code",
   "execution_count": null,
   "id": "296f14ab",
   "metadata": {},
   "outputs": [],
   "source": []
  },
  {
   "cell_type": "code",
   "execution_count": null,
   "id": "220d4eb2",
   "metadata": {},
   "outputs": [],
   "source": []
  },
  {
   "cell_type": "code",
   "execution_count": null,
   "id": "7621f649",
   "metadata": {},
   "outputs": [],
   "source": []
  },
  {
   "cell_type": "code",
   "execution_count": null,
   "id": "41283bb2",
   "metadata": {},
   "outputs": [],
   "source": []
  },
  {
   "cell_type": "code",
   "execution_count": null,
   "id": "604ccc2c",
   "metadata": {},
   "outputs": [],
   "source": []
  },
  {
   "cell_type": "code",
   "execution_count": null,
   "id": "44bed061",
   "metadata": {},
   "outputs": [],
   "source": []
  },
  {
   "cell_type": "code",
   "execution_count": null,
   "id": "3da494e9",
   "metadata": {},
   "outputs": [],
   "source": []
  },
  {
   "cell_type": "code",
   "execution_count": null,
   "id": "5cf6fd97",
   "metadata": {},
   "outputs": [],
   "source": []
  },
  {
   "cell_type": "code",
   "execution_count": null,
   "id": "61ea551d",
   "metadata": {},
   "outputs": [],
   "source": []
  },
  {
   "cell_type": "code",
   "execution_count": null,
   "id": "2d10eda5",
   "metadata": {},
   "outputs": [],
   "source": []
  },
  {
   "cell_type": "code",
   "execution_count": null,
   "id": "c58071c6",
   "metadata": {},
   "outputs": [],
   "source": []
  },
  {
   "cell_type": "code",
   "execution_count": null,
   "id": "2cc243e2",
   "metadata": {},
   "outputs": [],
   "source": []
  },
  {
   "cell_type": "code",
   "execution_count": null,
   "id": "24e34a94",
   "metadata": {},
   "outputs": [],
   "source": []
  },
  {
   "cell_type": "code",
   "execution_count": null,
   "id": "0b7a37b8",
   "metadata": {},
   "outputs": [],
   "source": []
  },
  {
   "cell_type": "code",
   "execution_count": null,
   "id": "cf3497c4",
   "metadata": {},
   "outputs": [],
   "source": []
  },
  {
   "cell_type": "code",
   "execution_count": null,
   "id": "ef2a592d",
   "metadata": {},
   "outputs": [],
   "source": []
  },
  {
   "cell_type": "code",
   "execution_count": null,
   "id": "60f49d16",
   "metadata": {},
   "outputs": [],
   "source": []
  },
  {
   "cell_type": "code",
   "execution_count": null,
   "id": "8664a1dc",
   "metadata": {},
   "outputs": [],
   "source": []
  },
  {
   "cell_type": "code",
   "execution_count": null,
   "id": "6dfb5707",
   "metadata": {},
   "outputs": [],
   "source": []
  },
  {
   "cell_type": "code",
   "execution_count": null,
   "id": "d44919d0",
   "metadata": {},
   "outputs": [],
   "source": [
    "import requests\n",
    "from bs4 import BeautifulSoup\n",
    "\n",
    "url = \"https://www.jumia.co.ke/fashion-backless-micro-bikini-set-womens-swimsuits-bandage-ginger-113421909.html\"\n",
    "\n",
    "headers = {\n",
    "    \"User-Agent\": \"Mozilla/5.0 (Windows NT 10.0; Win64; x64) AppleWebKit/537.36 (KHTML, like Gecko) Chrome/114.0.0.0 Safari/537.36\"\n",
    "}\n",
    "\n",
    "response = requests.get(url, headers=headers)\n",
    "page = response.content\n",
    "\n",
    "soup = BeautifulSoup(page, \"html.parser\")\n",
    "\n",
    "# Find the title element\n",
    "title_element = soup.find(\"h1\", class_=\"-fs20 -pts -pbxs\")\n",
    "\n",
    "# Find the price element\n",
    "price_element = soup.find(\"span\", class_=\"-b -ltr -tal -fs24\")\n",
    "\n",
    "if title_element and price_element:\n",
    "    title = title_element.get_text(strip=True)\n",
    "    price = price_element.get_text(strip=True)\n",
    "    print(\"Title:\", title)\n",
    "    print(\"Price:\", price)\n",
    "else:\n",
    "    print(\"Title or price element not found.\")\n"
   ]
  },
  {
   "cell_type": "code",
   "execution_count": null,
   "id": "c68aa678",
   "metadata": {},
   "outputs": [],
   "source": []
  },
  {
   "cell_type": "code",
   "execution_count": null,
   "id": "2e63d896",
   "metadata": {},
   "outputs": [],
   "source": []
  },
  {
   "cell_type": "code",
   "execution_count": null,
   "id": "49795aae",
   "metadata": {},
   "outputs": [],
   "source": []
  },
  {
   "cell_type": "code",
   "execution_count": null,
   "id": "9bc65587",
   "metadata": {},
   "outputs": [],
   "source": []
  },
  {
   "cell_type": "markdown",
   "id": "a715e8ee",
   "metadata": {},
   "source": []
  }
 ],
 "metadata": {
  "kernelspec": {
   "display_name": "Python 3 (ipykernel)",
   "language": "python",
   "name": "python3"
  },
  "language_info": {
   "codemirror_mode": {
    "name": "ipython",
    "version": 3
   },
   "file_extension": ".py",
   "mimetype": "text/x-python",
   "name": "python",
   "nbconvert_exporter": "python",
   "pygments_lexer": "ipython3",
   "version": "3.10.9"
  }
 },
 "nbformat": 4,
 "nbformat_minor": 5
}
