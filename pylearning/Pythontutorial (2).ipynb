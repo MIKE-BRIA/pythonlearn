{
 "cells": [
  {
   "cell_type": "code",
   "execution_count": 1,
   "id": "0ff5f531",
   "metadata": {},
   "outputs": [
    {
     "name": "stdout",
     "output_type": "stream",
     "text": [
      "hello world\n"
     ]
    }
   ],
   "source": [
    "print(\"hello world\")"
   ]
  },
  {
   "cell_type": "markdown",
   "id": "e45d2444",
   "metadata": {},
   "source": [
    "# first notebook"
   ]
  },
  {
   "cell_type": "code",
   "execution_count": null,
   "id": "10b682d6",
   "metadata": {},
   "outputs": [],
   "source": []
  },
  {
   "cell_type": "markdown",
   "id": "f10799ee",
   "metadata": {},
   "source": [
    "#variables in python"
   ]
  },
  {
   "cell_type": "code",
   "execution_count": 2,
   "id": "45e72b7f",
   "metadata": {},
   "outputs": [
    {
     "name": "stdout",
     "output_type": "stream",
     "text": [
      "22\n"
     ]
    }
   ],
   "source": [
    "x = 22\n",
    "\n",
    "print(x)"
   ]
  },
  {
   "cell_type": "code",
   "execution_count": 3,
   "id": "5cf86833",
   "metadata": {},
   "outputs": [
    {
     "data": {
      "text/plain": [
       "int"
      ]
     },
     "execution_count": 3,
     "metadata": {},
     "output_type": "execute_result"
    }
   ],
   "source": [
    "type(x)"
   ]
  },
  {
   "cell_type": "code",
   "execution_count": 4,
   "id": "76ed4d77",
   "metadata": {},
   "outputs": [],
   "source": [
    "y = 'am good'"
   ]
  },
  {
   "cell_type": "code",
   "execution_count": 5,
   "id": "f74caf46",
   "metadata": {},
   "outputs": [
    {
     "data": {
      "text/plain": [
       "str"
      ]
     },
     "execution_count": 5,
     "metadata": {},
     "output_type": "execute_result"
    }
   ],
   "source": [
    "type(y)"
   ]
  },
  {
   "cell_type": "code",
   "execution_count": 6,
   "id": "e1fffb92",
   "metadata": {},
   "outputs": [
    {
     "name": "stdout",
     "output_type": "stream",
     "text": [
      "vanilla\n",
      "mint\n",
      "hello\n"
     ]
    }
   ],
   "source": [
    "x,y,z = 'vanilla', 'mint', 'hello'\n",
    "\n",
    "print(x)\n",
    "print(y)\n",
    "print(z)"
   ]
  },
  {
   "cell_type": "markdown",
   "id": "d467457f",
   "metadata": {},
   "source": [
    "# list"
   ]
  },
  {
   "cell_type": "code",
   "execution_count": 7,
   "id": "6ac381fa",
   "metadata": {},
   "outputs": [
    {
     "name": "stdout",
     "output_type": "stream",
     "text": [
      "chocolate\n",
      "Vanilla\n",
      "Rocky road\n"
     ]
    }
   ],
   "source": [
    "ice_cream = ['chocolate','Vanilla', 'Rocky road']\n",
    "x,y,z = ice_cream\n",
    "print(x)\n",
    "print(y)\n",
    "print(z)"
   ]
  },
  {
   "cell_type": "code",
   "execution_count": 8,
   "id": "d13397f3",
   "metadata": {},
   "outputs": [],
   "source": [
    "# the best way to write a varioable\n",
    "# 1 by using underscore infront or between the words\n",
    "\n",
    "ice_cream = 'Vanilla'\n",
    "_icecream = 'Vanilla'\n",
    "_ice_cream = 'Vanilla'\n",
    "\n",
    "\n",
    "#the wrong ways to write variables\n",
    "# 1 beginning variables with numbers\n",
    "\n",
    "_icecream = 'vanilla'"
   ]
  },
  {
   "cell_type": "markdown",
   "id": "2d96bbd5",
   "metadata": {},
   "source": [
    "# python data types"
   ]
  },
  {
   "cell_type": "code",
   "execution_count": 9,
   "id": "5cc9f263",
   "metadata": {},
   "outputs": [
    {
     "data": {
      "text/plain": [
       "int"
      ]
     },
     "execution_count": 9,
     "metadata": {},
     "output_type": "execute_result"
    }
   ],
   "source": [
    "#numeric data types\n",
    "#1 integers = this are whole numbers both positive and negative\n",
    "\n",
    "type(-12+44)"
   ]
  },
  {
   "cell_type": "code",
   "execution_count": 10,
   "id": "506da95d",
   "metadata": {},
   "outputs": [
    {
     "data": {
      "text/plain": [
       "float"
      ]
     },
     "execution_count": 10,
     "metadata": {},
     "output_type": "execute_result"
    }
   ],
   "source": [
    "#2 float = this are numerics that have decimal places \n",
    "\n",
    "type(10.5)\n",
    "type(12+12.6)"
   ]
  },
  {
   "cell_type": "code",
   "execution_count": 11,
   "id": "f5afe838",
   "metadata": {},
   "outputs": [
    {
     "data": {
      "text/plain": [
       "complex"
      ]
     },
     "execution_count": 11,
     "metadata": {},
     "output_type": "execute_result"
    }
   ],
   "source": [
    "#3 complex = this are numerical data with letters in them that are like imaginary numbers\n",
    "#  J is the only letter that is used in complex (if you use anyother letter you will get an error)\n",
    "\n",
    "type(12+5j)"
   ]
  },
  {
   "cell_type": "code",
   "execution_count": 12,
   "id": "7972c5bd",
   "metadata": {},
   "outputs": [
    {
     "data": {
      "text/plain": [
       "bool"
      ]
     },
     "execution_count": 12,
     "metadata": {},
     "output_type": "execute_result"
    }
   ],
   "source": [
    "# Boolean \n",
    "# this are only used to produce either a true or false results\n",
    "\n",
    "type(True)\n",
    "type(False)\n",
    "\n",
    "#example use case\n",
    "\n",
    "type(1 > 5)"
   ]
  },
  {
   "cell_type": "code",
   "execution_count": 13,
   "id": "3dd1a0e6",
   "metadata": {},
   "outputs": [
    {
     "data": {
      "text/plain": [
       "False"
      ]
     },
     "execution_count": 13,
     "metadata": {},
     "output_type": "execute_result"
    }
   ],
   "source": [
    "1 > 5"
   ]
  },
  {
   "cell_type": "code",
   "execution_count": 14,
   "id": "41a9e026",
   "metadata": {},
   "outputs": [
    {
     "data": {
      "text/plain": [
       "str"
      ]
     },
     "execution_count": 14,
     "metadata": {},
     "output_type": "execute_result"
    }
   ],
   "source": [
    "# strings\n",
    "# when assigning strings to a variable you should use Quatation marks\n",
    "\n",
    "y = 'hae, eveyone'\n",
    "type(y)"
   ]
  },
  {
   "cell_type": "code",
   "execution_count": 15,
   "id": "5c3dc77c",
   "metadata": {},
   "outputs": [],
   "source": [
    "#when using strings there are use of single quatation and double quatation which are used to do the same task\n",
    "\n",
    "x = 'life is good'\n",
    "x = \"life is good\"\n"
   ]
  },
  {
   "cell_type": "code",
   "execution_count": 16,
   "id": "abbbb656",
   "metadata": {},
   "outputs": [],
   "source": [
    "#triple quatations are used when you want to write a large amount of text like a poem or paragraph\n",
    "\n",
    "multiline = \"\"\"\n",
    "The ice cream vanquished\n",
    "my longing for sweets,\n",
    "upon this diet i look away,\n",
    "it no longer exists on this day\n",
    "\"\"\""
   ]
  },
  {
   "cell_type": "code",
   "execution_count": 17,
   "id": "3c41f88f",
   "metadata": {},
   "outputs": [
    {
     "name": "stdout",
     "output_type": "stream",
     "text": [
      "\n",
      "The ice cream vanquished\n",
      "my longing for sweets,\n",
      "upon this diet i look away,\n",
      "it no longer exists on this day\n",
      "\n"
     ]
    }
   ],
   "source": [
    "print(multiline)"
   ]
  },
  {
   "cell_type": "code",
   "execution_count": 18,
   "id": "7da52bbf",
   "metadata": {},
   "outputs": [
    {
     "data": {
      "text/plain": [
       "str"
      ]
     },
     "execution_count": 18,
     "metadata": {},
     "output_type": "execute_result"
    }
   ],
   "source": [
    "type(multiline)"
   ]
  },
  {
   "cell_type": "code",
   "execution_count": 19,
   "id": "21700cec",
   "metadata": {},
   "outputs": [
    {
     "name": "stdout",
     "output_type": "stream",
     "text": [
      "hello\n"
     ]
    }
   ],
   "source": [
    "a= 'hello world'\n",
    "print(a[:5])"
   ]
  },
  {
   "cell_type": "markdown",
   "id": "18bc62a3",
   "metadata": {},
   "source": [
    "# list"
   ]
  },
  {
   "cell_type": "code",
   "execution_count": 20,
   "id": "614d7017",
   "metadata": {},
   "outputs": [
    {
     "data": {
      "text/plain": [
       "[1, 2, 3, 4, 5]"
      ]
     },
     "execution_count": 20,
     "metadata": {},
     "output_type": "execute_result"
    }
   ],
   "source": [
    "#list\n",
    "#stores multuiple values list are stored in brackets[]\n",
    "# list are positioned just as strings and a position 0 we have 1\n",
    "\n",
    "[1,2,3,4,5]"
   ]
  },
  {
   "cell_type": "code",
   "execution_count": 21,
   "id": "506be500",
   "metadata": {},
   "outputs": [
    {
     "data": {
      "text/plain": [
       "['BMW', 'Mercedes', 'Bently', 'Ferrari', 'Maybach']"
      ]
     },
     "execution_count": 21,
     "metadata": {},
     "output_type": "execute_result"
    }
   ],
   "source": [
    "['BMW','Mercedes','Bently','Ferrari','Maybach']"
   ]
  },
  {
   "cell_type": "code",
   "execution_count": 22,
   "id": "b75f3f83",
   "metadata": {},
   "outputs": [
    {
     "data": {
      "text/plain": [
       "['BMW', 'Mercedes', 'Bently', 'Ferrari', 'Maybach', 'Buggati']"
      ]
     },
     "execution_count": 22,
     "metadata": {},
     "output_type": "execute_result"
    }
   ],
   "source": [
    "#to add a value to a list you use (.append) this adds to the furthest part\n",
    "\n",
    "cars = ['BMW','Mercedes','Bently','Ferrari','Maybach']\n",
    "cars.append('Buggati')\n",
    "cars"
   ]
  },
  {
   "cell_type": "code",
   "execution_count": 23,
   "id": "ac44c1db",
   "metadata": {},
   "outputs": [
    {
     "data": {
      "text/plain": [
       "1"
      ]
     },
     "execution_count": 23,
     "metadata": {},
     "output_type": "execute_result"
    }
   ],
   "source": [
    "# to delete elements in a list you use (.pop)- this is used to remove a value by its index\n",
    "#also the (remove) function can be used and in that you provide the value to be removed from the list\n",
    "\n",
    "#(.pop)\n",
    "numbers = [1,2,3,4,5,6,7,88,9]\n",
    "numbers.pop(0)"
   ]
  },
  {
   "cell_type": "code",
   "execution_count": 24,
   "id": "4dbb30e2",
   "metadata": {},
   "outputs": [
    {
     "name": "stdout",
     "output_type": "stream",
     "text": [
      "[2, 3, 4, 5, 6, 7, 88, 9]\n"
     ]
    }
   ],
   "source": [
    "print(numbers)"
   ]
  },
  {
   "cell_type": "code",
   "execution_count": 25,
   "id": "ac53af4b",
   "metadata": {},
   "outputs": [
    {
     "name": "stdout",
     "output_type": "stream",
     "text": [
      "[99, 87, 65, 33, 23, 54]\n"
     ]
    }
   ],
   "source": [
    "#(.remove)\n",
    "\n",
    "bill = [99,87,65,44,33,23,54]\n",
    "bill.remove(44)\n",
    "print(bill)"
   ]
  },
  {
   "cell_type": "code",
   "execution_count": 26,
   "id": "a0f54b6a",
   "metadata": {},
   "outputs": [
    {
     "data": {
      "text/plain": [
       "['Tesla', 'Mercedes', 'Bently', 'Ferrari', 'Maybach', 'Buggati']"
      ]
     },
     "execution_count": 26,
     "metadata": {},
     "output_type": "execute_result"
    }
   ],
   "source": [
    "#changing things in a list\n",
    "cars[0]= 'Tesla'\n",
    "cars"
   ]
  },
  {
   "cell_type": "code",
   "execution_count": 27,
   "id": "f41b503e",
   "metadata": {},
   "outputs": [
    {
     "data": {
      "text/plain": [
       "['Scoops', 'spoon']"
      ]
     },
     "execution_count": 27,
     "metadata": {},
     "output_type": "execute_result"
    }
   ],
   "source": [
    "#nested list = this is a list within a list\n",
    "nest_list = ['Vanilla',3,['Scoops','spoon'], True, 'Good']\n",
    "nest_list[2]"
   ]
  },
  {
   "cell_type": "markdown",
   "id": "6ad6f1bf",
   "metadata": {},
   "source": [
    "# tuple"
   ]
  },
  {
   "cell_type": "code",
   "execution_count": 28,
   "id": "ea20185c",
   "metadata": {},
   "outputs": [
    {
     "data": {
      "text/plain": [
       "tuple"
      ]
     },
     "execution_count": 28,
     "metadata": {},
     "output_type": "execute_result"
    }
   ],
   "source": [
    "#tuples -can not be modified or changed after it has been created\n",
    "#tuples are created using open parenthesis\n",
    "#tuples are used when the data in them are not expected to change\n",
    "\n",
    "good_day = (1,2,3,4,5,6)\n",
    "type(good_day)"
   ]
  },
  {
   "cell_type": "code",
   "execution_count": 29,
   "id": "3b5ba0bf",
   "metadata": {},
   "outputs": [
    {
     "name": "stdout",
     "output_type": "stream",
     "text": [
      "1\n",
      "2\n",
      "3\n",
      "4\n",
      "5\n",
      "6\n"
     ]
    }
   ],
   "source": [
    "for bum in good_day:\n",
    "    print(bum)"
   ]
  },
  {
   "cell_type": "markdown",
   "id": "bcf9e948",
   "metadata": {},
   "source": [
    "# set"
   ]
  },
  {
   "cell_type": "code",
   "execution_count": 30,
   "id": "e0acdc51",
   "metadata": {},
   "outputs": [
    {
     "data": {
      "text/plain": [
       "set"
      ]
     },
     "execution_count": 30,
     "metadata": {},
     "output_type": "execute_result"
    }
   ],
   "source": [
    "#sets\n",
    "#values within a set cannot be accessed using index because its unordered\n",
    "\n",
    "daily_stoic={1,2,3,4}\n",
    "type(daily_stoic)"
   ]
  },
  {
   "cell_type": "code",
   "execution_count": 31,
   "id": "daa42190",
   "metadata": {},
   "outputs": [],
   "source": [
    "#sets do not hold duplicate values\n",
    "#used when one wants to avoid duplicates\n",
    "\n",
    "\n",
    "daily_pint = {1,2,3}"
   ]
  },
  {
   "cell_type": "code",
   "execution_count": 32,
   "id": "ca6abbfa",
   "metadata": {},
   "outputs": [
    {
     "data": {
      "text/plain": [
       "set"
      ]
     },
     "execution_count": 32,
     "metadata": {},
     "output_type": "execute_result"
    }
   ],
   "source": [
    "type(daily_pint)"
   ]
  },
  {
   "cell_type": "code",
   "execution_count": 33,
   "id": "d02c630d",
   "metadata": {},
   "outputs": [
    {
     "name": "stdout",
     "output_type": "stream",
     "text": [
      "{1, 2, 3}\n"
     ]
    }
   ],
   "source": [
    "print(daily_pint)"
   ]
  },
  {
   "cell_type": "code",
   "execution_count": 34,
   "id": "0c472ee1",
   "metadata": {},
   "outputs": [
    {
     "name": "stdout",
     "output_type": "stream",
     "text": [
      "{1, 2, 3, 4, 5, 6, 7, 8, 77}\n"
     ]
    }
   ],
   "source": [
    "good_day = {1,2,3,5,7,8,77,2,3,7,4,5,6}  #you can see that during the print sets do not print duplicate values\n",
    "print(good_day)"
   ]
  },
  {
   "cell_type": "code",
   "execution_count": 35,
   "id": "ea33f78e",
   "metadata": {},
   "outputs": [],
   "source": [
    "#sets can be used to compare values between different sets\n",
    "\n",
    "daily_log = {1,2,31,2,3,4,1,2,5,6,3,2}\n",
    "wife_daily_log = {1,3,5,7,3,24,5,7,3,2,0}"
   ]
  },
  {
   "cell_type": "code",
   "execution_count": 36,
   "id": "c2f54a5d",
   "metadata": {},
   "outputs": [
    {
     "name": "stdout",
     "output_type": "stream",
     "text": [
      "{0, 1, 2, 3, 4, 5, 6, 7, 24, 31}\n"
     ]
    }
   ],
   "source": [
    "#when you want to find unique values from both daily_log and wife_daily_log\n",
    "\n",
    "print(daily_log | wife_daily_log)"
   ]
  },
  {
   "cell_type": "code",
   "execution_count": 37,
   "id": "2e3010bd",
   "metadata": {},
   "outputs": [
    {
     "name": "stdout",
     "output_type": "stream",
     "text": [
      "{1, 2, 3, 5}\n"
     ]
    }
   ],
   "source": [
    "#when you want to find value that are present in both daily_log and wife_daily_log\n",
    "\n",
    "print(daily_log & wife_daily_log)"
   ]
  },
  {
   "cell_type": "code",
   "execution_count": 38,
   "id": "83908fad",
   "metadata": {},
   "outputs": [
    {
     "name": "stdout",
     "output_type": "stream",
     "text": [
      "{4, 6, 31}\n"
     ]
    }
   ],
   "source": [
    "#when you want to know the values that are not present in both daily_log and wife_daily_log\n",
    "\n",
    "print(daily_log - wife_daily_log)"
   ]
  },
  {
   "cell_type": "markdown",
   "id": "d7976730",
   "metadata": {},
   "source": [
    "# dictionaries"
   ]
  },
  {
   "cell_type": "code",
   "execution_count": 39,
   "id": "167387fc",
   "metadata": {},
   "outputs": [],
   "source": [
    "#dictionaries\n",
    "#has a key/value pair\n",
    "\n",
    "dict_cream = {'name': 'Brian Michael', 'weekly intake': 5, 'favourite car':['Bently','Buggati','Mercedes']}"
   ]
  },
  {
   "cell_type": "code",
   "execution_count": 40,
   "id": "5ed3cf1b",
   "metadata": {},
   "outputs": [
    {
     "data": {
      "text/plain": [
       "dict"
      ]
     },
     "execution_count": 40,
     "metadata": {},
     "output_type": "execute_result"
    }
   ],
   "source": [
    "type(dict_cream)"
   ]
  },
  {
   "cell_type": "code",
   "execution_count": 41,
   "id": "110a0893",
   "metadata": {},
   "outputs": [
    {
     "name": "stdout",
     "output_type": "stream",
     "text": [
      "{'name': 'Brian Michael', 'weekly intake': 5, 'favourite car': ['Bently', 'Buggati', 'Mercedes']}\n"
     ]
    }
   ],
   "source": [
    "print(dict_cream)"
   ]
  },
  {
   "cell_type": "code",
   "execution_count": 42,
   "id": "5d329b67",
   "metadata": {},
   "outputs": [
    {
     "data": {
      "text/plain": [
       "dict_values(['Brian Michael', 5, ['Bently', 'Buggati', 'Mercedes']])"
      ]
     },
     "execution_count": 42,
     "metadata": {},
     "output_type": "execute_result"
    }
   ],
   "source": [
    "dict_cream.values()"
   ]
  },
  {
   "cell_type": "code",
   "execution_count": 43,
   "id": "72f33b3e",
   "metadata": {},
   "outputs": [
    {
     "data": {
      "text/plain": [
       "dict_keys(['name', 'weekly intake', 'favourite car'])"
      ]
     },
     "execution_count": 43,
     "metadata": {},
     "output_type": "execute_result"
    }
   ],
   "source": [
    "dict_cream.keys()"
   ]
  },
  {
   "cell_type": "code",
   "execution_count": 44,
   "id": "ab5ce900",
   "metadata": {},
   "outputs": [
    {
     "data": {
      "text/plain": [
       "'Brian Michael'"
      ]
     },
     "execution_count": 44,
     "metadata": {},
     "output_type": "execute_result"
    }
   ],
   "source": [
    "#dictionaries are called by the key\n",
    "\n",
    "dict_cream['name']"
   ]
  },
  {
   "cell_type": "code",
   "execution_count": 45,
   "id": "5e49e442",
   "metadata": {},
   "outputs": [
    {
     "name": "stdout",
     "output_type": "stream",
     "text": [
      "{'name': 'Bimax Motors', 'weekly intake': 5, 'favourite car': ['Bently', 'Buggati', 'Mercedes']}\n"
     ]
    }
   ],
   "source": [
    "#you can also update the values within a dictionary\n",
    "\n",
    "dict_cream['name'] = 'Bimax Motors'\n",
    "\n",
    "print(dict_cream)"
   ]
  },
  {
   "cell_type": "code",
   "execution_count": 46,
   "id": "ffc377b2",
   "metadata": {},
   "outputs": [
    {
     "name": "stdout",
     "output_type": "stream",
     "text": [
      "{'name': 'Bimax Motors', 'weekly intake': 5, 'favourite car': ['Genim F12', 'Coldera01', 'Feyup'], 'production cost': 'five million'}\n"
     ]
    }
   ],
   "source": [
    "#you can also update the whole dictionary the one we did before was on updating a single value\n",
    "\n",
    "dict_cream.update({'name': 'Bimax Motors', 'production cost': 'five million', 'favourite car': ['Genim F12', 'Coldera01', 'Feyup']})\n",
    "\n",
    "print(dict_cream)"
   ]
  },
  {
   "cell_type": "code",
   "execution_count": 47,
   "id": "310015e9",
   "metadata": {},
   "outputs": [
    {
     "name": "stdout",
     "output_type": "stream",
     "text": [
      "{'name': 'Bimax Motors', 'favourite car': ['Genim F12', 'Coldera01', 'Feyup'], 'production cost': 'five million'}\n"
     ]
    }
   ],
   "source": [
    "# to delete a value from the dictionary use del before the variable\n",
    "\n",
    "del dict_cream['weekly intake']\n",
    "print(dict_cream)"
   ]
  },
  {
   "cell_type": "markdown",
   "id": "250394a7",
   "metadata": {},
   "source": [
    "# comparison,logical and membership operators in python"
   ]
  },
  {
   "cell_type": "code",
   "execution_count": 48,
   "id": "5066665a",
   "metadata": {},
   "outputs": [
    {
     "data": {
      "text/plain": [
       "True"
      ]
     },
     "execution_count": 48,
     "metadata": {},
     "output_type": "execute_result"
    }
   ],
   "source": [
    "#this contains mathematical operators\n",
    "\n",
    "# equal to (==)\n",
    "\n",
    "10 == 10"
   ]
  },
  {
   "cell_type": "code",
   "execution_count": 49,
   "id": "45e8f23f",
   "metadata": {},
   "outputs": [
    {
     "data": {
      "text/plain": [
       "True"
      ]
     },
     "execution_count": 49,
     "metadata": {},
     "output_type": "execute_result"
    }
   ],
   "source": [
    "#not equal to (!=)\n",
    "\n",
    "10 != 40"
   ]
  },
  {
   "cell_type": "code",
   "execution_count": 50,
   "id": "ef47b12b",
   "metadata": {},
   "outputs": [
    {
     "data": {
      "text/plain": [
       "True"
      ]
     },
     "execution_count": 50,
     "metadata": {},
     "output_type": "execute_result"
    }
   ],
   "source": [
    "'Vanilla' == 'Vanilla'"
   ]
  },
  {
   "cell_type": "code",
   "execution_count": 51,
   "id": "9fcc24f0",
   "metadata": {},
   "outputs": [
    {
     "data": {
      "text/plain": [
       "True"
      ]
     },
     "execution_count": 51,
     "metadata": {},
     "output_type": "execute_result"
    }
   ],
   "source": [
    "x = 'Brian'\n",
    "y = 'Michael'\n",
    "\n",
    "x != y"
   ]
  },
  {
   "cell_type": "code",
   "execution_count": 52,
   "id": "7829da6f",
   "metadata": {},
   "outputs": [
    {
     "data": {
      "text/plain": [
       "True"
      ]
     },
     "execution_count": 52,
     "metadata": {},
     "output_type": "execute_result"
    }
   ],
   "source": [
    "# less than (<)\n",
    "\n",
    "10 < 40"
   ]
  },
  {
   "cell_type": "markdown",
   "id": "ff0d0778",
   "metadata": {},
   "source": [
    "# logical operators"
   ]
  },
  {
   "cell_type": "code",
   "execution_count": 53,
   "id": "7b7a6bee",
   "metadata": {},
   "outputs": [],
   "source": [
    "#logical operators often compined with logical operators\n",
    "\n",
    "#And -----returns True if both statements are true\n",
    "#Or ------Returns True if one of the statements is true\n",
    "#Not -----Reverse the result, returns False if the statement is true"
   ]
  },
  {
   "cell_type": "code",
   "execution_count": 54,
   "id": "169e7940",
   "metadata": {},
   "outputs": [
    {
     "data": {
      "text/plain": [
       "False"
      ]
     },
     "execution_count": 54,
     "metadata": {},
     "output_type": "execute_result"
    }
   ],
   "source": [
    "(10 > 50) and (50 < 40)"
   ]
  },
  {
   "cell_type": "code",
   "execution_count": 55,
   "id": "b3bf9674",
   "metadata": {},
   "outputs": [
    {
     "data": {
      "text/plain": [
       "True"
      ]
     },
     "execution_count": 55,
     "metadata": {},
     "output_type": "execute_result"
    }
   ],
   "source": [
    "(70 > 30) and (10 < 30)"
   ]
  },
  {
   "cell_type": "code",
   "execution_count": 56,
   "id": "d2b871e3",
   "metadata": {},
   "outputs": [
    {
     "data": {
      "text/plain": [
       "True"
      ]
     },
     "execution_count": 56,
     "metadata": {},
     "output_type": "execute_result"
    }
   ],
   "source": [
    "(10 > 60) or (0.5 <20)"
   ]
  },
  {
   "cell_type": "code",
   "execution_count": 57,
   "id": "8b08b84d",
   "metadata": {},
   "outputs": [
    {
     "data": {
      "text/plain": [
       "False"
      ]
     },
     "execution_count": 57,
     "metadata": {},
     "output_type": "execute_result"
    }
   ],
   "source": [
    "not(50 > 10)"
   ]
  },
  {
   "cell_type": "markdown",
   "id": "971529ec",
   "metadata": {},
   "source": [
    "# membership operators"
   ]
  },
  {
   "cell_type": "code",
   "execution_count": 58,
   "id": "eeb6bc31",
   "metadata": {},
   "outputs": [],
   "source": [
    "#used to check if a value or string is within another value or sequence\n",
    "\n",
    "\n",
    "#In -------Returns True if a sequence with the specified value is present in the object\n",
    "#Not in -----Returns True if a sequence with the specified value is not present in the object"
   ]
  },
  {
   "cell_type": "code",
   "execution_count": 59,
   "id": "9c0cfa65",
   "metadata": {},
   "outputs": [
    {
     "data": {
      "text/plain": [
       "True"
      ]
     },
     "execution_count": 59,
     "metadata": {},
     "output_type": "execute_result"
    }
   ],
   "source": [
    "brian_michael = 'i love cars soo much my guy'\n",
    "'guy' in brian_michael #its like we are looking for the word guy in 'i love cars soo much my guy'"
   ]
  },
  {
   "cell_type": "code",
   "execution_count": 60,
   "id": "65537cd3",
   "metadata": {},
   "outputs": [
    {
     "data": {
      "text/plain": [
       "True"
      ]
     },
     "execution_count": 60,
     "metadata": {},
     "output_type": "execute_result"
    }
   ],
   "source": [
    "'guy' in 'i love cars soo much my guy'"
   ]
  },
  {
   "cell_type": "code",
   "execution_count": 61,
   "id": "a3769a89",
   "metadata": {},
   "outputs": [
    {
     "data": {
      "text/plain": [
       "True"
      ]
     },
     "execution_count": 61,
     "metadata": {},
     "output_type": "execute_result"
    }
   ],
   "source": [
    "_muranga = [1,2,3,34,4,4,5]\n",
    "\n",
    "67 not in _muranga"
   ]
  },
  {
   "cell_type": "markdown",
   "id": "161999b8",
   "metadata": {},
   "source": [
    "# If  -  Elif  -  Else  statements"
   ]
  },
  {
   "cell_type": "code",
   "execution_count": 62,
   "id": "04207191",
   "metadata": {},
   "outputs": [
    {
     "name": "stdout",
     "output_type": "stream",
     "text": [
      "am rich!\n"
     ]
    }
   ],
   "source": [
    "x = 25000000\n",
    "if x == 25000000:\n",
    "    print('am rich!')"
   ]
  },
  {
   "cell_type": "code",
   "execution_count": 63,
   "id": "9bf16af3",
   "metadata": {},
   "outputs": [
    {
     "name": "stdout",
     "output_type": "stream",
     "text": [
      "work harder bro!\n"
     ]
    }
   ],
   "source": [
    "x = 25000000\n",
    "if x > 25000000:\n",
    "    print('am rich!')\n",
    "else:\n",
    "    print('work harder bro!')"
   ]
  },
  {
   "cell_type": "code",
   "execution_count": 64,
   "id": "0439af54",
   "metadata": {},
   "outputs": [
    {
     "name": "stdout",
     "output_type": "stream",
     "text": [
      "good job to me!\n"
     ]
    }
   ],
   "source": [
    "x = 25000000\n",
    "if x > 25000000:\n",
    "    print('am rich!')\n",
    "elif x < 50000000:\n",
    "    print('good job to me!')\n",
    "else:\n",
    "    print('work harder bro!')"
   ]
  },
  {
   "cell_type": "code",
   "execution_count": 65,
   "id": "4ec6892d",
   "metadata": {},
   "outputs": [
    {
     "name": "stdout",
     "output_type": "stream",
     "text": [
      "it did not work ....\n"
     ]
    }
   ],
   "source": [
    "#onother way to write if else statement\n",
    "\n",
    "print('it worked!') if 10 > 30 else print('it did not work ....')"
   ]
  },
  {
   "cell_type": "code",
   "execution_count": 66,
   "id": "ff810786",
   "metadata": {},
   "outputs": [],
   "source": [
    "#nested if statement"
   ]
  },
  {
   "cell_type": "markdown",
   "id": "9f92c383",
   "metadata": {},
   "source": [
    "# for loops"
   ]
  },
  {
   "cell_type": "code",
   "execution_count": 67,
   "id": "eaac4dfd",
   "metadata": {},
   "outputs": [],
   "source": [
    "#used to do something repeatedly until untill a condition is met"
   ]
  },
  {
   "cell_type": "code",
   "execution_count": 68,
   "id": "50ce6b44",
   "metadata": {},
   "outputs": [
    {
     "name": "stdout",
     "output_type": "stream",
     "text": [
      "jenny\n",
      "Ram\n",
      "Rahul\n",
      "Pagal\n"
     ]
    }
   ],
   "source": [
    "# Syntax  =  For var_name in sequence:                          for the var_name choose something meaningful\n",
    "                #statement(s)\n",
    "\n",
    "puke = ['jenny','Ram', 'Rahul', 'Pagal']\n",
    "\n",
    "\n",
    "for names in puke:\n",
    "    print(names)"
   ]
  },
  {
   "cell_type": "code",
   "execution_count": 69,
   "id": "7ddf2f14",
   "metadata": {},
   "outputs": [],
   "source": [
    "# for loops for dictonaries\n",
    "\n",
    "dict_cream = {'name': 'Brian Michael', 'weekly intake': 5, 'favourite car':['Bently','Buggati','Mercedes']}"
   ]
  },
  {
   "cell_type": "code",
   "execution_count": 70,
   "id": "efc1d569",
   "metadata": {},
   "outputs": [
    {
     "name": "stdout",
     "output_type": "stream",
     "text": [
      "Brian Michael\n",
      "5\n",
      "['Bently', 'Buggati', 'Mercedes']\n"
     ]
    }
   ],
   "source": [
    "for bull in dict_cream.values():    #to print values\n",
    "    print(bull)"
   ]
  },
  {
   "cell_type": "code",
   "execution_count": 71,
   "id": "4581d96b",
   "metadata": {},
   "outputs": [
    {
     "name": "stdout",
     "output_type": "stream",
     "text": [
      "name\n",
      "weekly intake\n",
      "favourite car\n"
     ]
    }
   ],
   "source": [
    "for pig in dict_cream.keys():      #to print keys\n",
    "    print(pig)"
   ]
  },
  {
   "cell_type": "code",
   "execution_count": 72,
   "id": "84036b0a",
   "metadata": {},
   "outputs": [
    {
     "name": "stdout",
     "output_type": "stream",
     "text": [
      "name -> Brian Michael\n",
      "weekly intake -> 5\n",
      "favourite car -> ['Bently', 'Buggati', 'Mercedes']\n"
     ]
    }
   ],
   "source": [
    "for keys,value in dict_cream.items():   # to print out both keys and values\n",
    "    print(keys,'->',value)"
   ]
  },
  {
   "cell_type": "code",
   "execution_count": 73,
   "id": "91bd6ab3",
   "metadata": {},
   "outputs": [],
   "source": [
    "#nested for loop"
   ]
  },
  {
   "cell_type": "code",
   "execution_count": 74,
   "id": "f83b58ee",
   "metadata": {},
   "outputs": [],
   "source": [
    "flavors = ['Vanilla', 'Chocolate', 'Cookie Dough']\n",
    "toppings = ['Hot Fudge', 'Oreos', 'Marshmallo']"
   ]
  },
  {
   "cell_type": "code",
   "execution_count": 75,
   "id": "314203ea",
   "metadata": {},
   "outputs": [
    {
     "name": "stdout",
     "output_type": "stream",
     "text": [
      "Vanilla topped with Hot Fudge\n",
      "Vanilla topped with Oreos\n",
      "Vanilla topped with Marshmallo\n",
      "Chocolate topped with Hot Fudge\n",
      "Chocolate topped with Oreos\n",
      "Chocolate topped with Marshmallo\n",
      "Cookie Dough topped with Hot Fudge\n",
      "Cookie Dough topped with Oreos\n",
      "Cookie Dough topped with Marshmallo\n"
     ]
    }
   ],
   "source": [
    "for one in flavors:\n",
    "    for two in toppings:\n",
    "        print(one, 'topped with', two)"
   ]
  },
  {
   "cell_type": "markdown",
   "id": "b508aa00",
   "metadata": {},
   "source": [
    "# while loops"
   ]
  },
  {
   "cell_type": "code",
   "execution_count": 76,
   "id": "5c1bb3de",
   "metadata": {},
   "outputs": [
    {
     "name": "stdout",
     "output_type": "stream",
     "text": [
      "0\n",
      "1\n",
      "2\n",
      "3\n",
      "4\n"
     ]
    }
   ],
   "source": [
    "num = 0\n",
    "\n",
    "while num < 5:\n",
    "    print(num)\n",
    "    num = num + 1"
   ]
  },
  {
   "cell_type": "code",
   "execution_count": 77,
   "id": "5ae1d4f7",
   "metadata": {},
   "outputs": [
    {
     "name": "stdout",
     "output_type": "stream",
     "text": [
      "0\n",
      "1\n",
      "2\n",
      "3\n",
      "4\n"
     ]
    }
   ],
   "source": [
    "# breaking while loop  --- you use break to break out of a loop even if the statement is true\n",
    "\n",
    "\n",
    "num = 0\n",
    "\n",
    "while num < 7:\n",
    "    print(num)\n",
    "    if num == 4:\n",
    "        break\n",
    "    num = num + 1"
   ]
  },
  {
   "cell_type": "code",
   "execution_count": 78,
   "id": "b727c593",
   "metadata": {},
   "outputs": [
    {
     "name": "stdout",
     "output_type": "stream",
     "text": [
      "0\n",
      "1\n",
      "2\n",
      "3\n",
      "4\n",
      "no longer < 5\n"
     ]
    }
   ],
   "source": [
    "#else statement in a while loop\n",
    "\n",
    "num = 0\n",
    "while num < 5:\n",
    "    print(num)\n",
    "    if num == 7:\n",
    "        break\n",
    "    num = num+1\n",
    "else:\n",
    "    print('no longer < 5')"
   ]
  },
  {
   "cell_type": "code",
   "execution_count": null,
   "id": "f077bcf0",
   "metadata": {},
   "outputs": [],
   "source": [
    "# this will lead to a infinate loop\n",
    "\n",
    "num = 0\n",
    "while num < 5:\n",
    "    print(num)\n",
    "    if num == 3:\n",
    "        continue\n",
    "    num = num+1\n",
    "else:\n",
    "    print('no longer < 5')"
   ]
  },
  {
   "cell_type": "code",
   "execution_count": null,
   "id": "d2dbbe98",
   "metadata": {},
   "outputs": [],
   "source": [
    "# 3 won't be printed out\n",
    "\n",
    "num = 0\n",
    "while num < 5:\n",
    "    num = num+1\n",
    "    if num == 3:\n",
    "        continue\n",
    "    print(num)\n",
    "else:\n",
    "    print('no longer < 5')"
   ]
  },
  {
   "cell_type": "markdown",
   "id": "9637c401",
   "metadata": {},
   "source": [
    "# functions"
   ]
  },
  {
   "cell_type": "code",
   "execution_count": null,
   "id": "e2a67b3b",
   "metadata": {},
   "outputs": [],
   "source": [
    "#they are only run when called\n",
    "#example\n",
    "\n",
    "def first_function():\n",
    "    print('i finaly did it!')"
   ]
  },
  {
   "cell_type": "code",
   "execution_count": null,
   "id": "49d01318",
   "metadata": {},
   "outputs": [],
   "source": [
    "#calling the function above\n",
    "first_function()"
   ]
  },
  {
   "cell_type": "code",
   "execution_count": null,
   "id": "015fe876",
   "metadata": {},
   "outputs": [],
   "source": [
    "#aguments in functions\n",
    "\n",
    "def num_cool(number):\n",
    "    print(number**2)"
   ]
  },
  {
   "cell_type": "code",
   "execution_count": null,
   "id": "a50677f9",
   "metadata": {},
   "outputs": [],
   "source": [
    "#calling the function\n",
    "\n",
    "num_cool(6)   # 6 is the agument passed to the function"
   ]
  },
  {
   "cell_type": "code",
   "execution_count": null,
   "id": "8f71d0bb",
   "metadata": {},
   "outputs": [],
   "source": [
    "#passing more than one argument\n",
    "\n",
    "def num_pass(number,power):\n",
    "    print(number**power)"
   ]
  },
  {
   "cell_type": "code",
   "execution_count": null,
   "id": "2bd6302e",
   "metadata": {},
   "outputs": [],
   "source": [
    "num_pass(5,2)"
   ]
  },
  {
   "cell_type": "code",
   "execution_count": null,
   "id": "afda0720",
   "metadata": {},
   "outputs": [],
   "source": [
    "#abatury arguments   used when you are not sure about the number of arguments you want to pass\n",
    "\n",
    "def num_arg(*number):\n",
    "    print(number[0]*number[1])"
   ]
  },
  {
   "cell_type": "code",
   "execution_count": null,
   "id": "7fb941e4",
   "metadata": {},
   "outputs": [],
   "source": [
    "num_arg(6,5,7,8,9)"
   ]
  },
  {
   "cell_type": "code",
   "execution_count": null,
   "id": "10194fec",
   "metadata": {},
   "outputs": [],
   "source": [
    "#another example of how you can write the code above\n",
    "\n",
    "tu_ple = (6,5,7,8,9)\n",
    "\n",
    "def num_apt(*number):\n",
    "    print(number[0]*number[1])"
   ]
  },
  {
   "cell_type": "code",
   "execution_count": null,
   "id": "cf7cadaa",
   "metadata": {},
   "outputs": [],
   "source": [
    "num_apt(*tu_ple)"
   ]
  },
  {
   "cell_type": "code",
   "execution_count": null,
   "id": "5b2a6ef2",
   "metadata": {},
   "outputs": [],
   "source": [
    "#keyword Arguments   =  you define the values of the arguments\n",
    "\n",
    "def num_one(power,number):\n",
    "    print(number**power)"
   ]
  },
  {
   "cell_type": "code",
   "execution_count": null,
   "id": "0e3a0d79",
   "metadata": {},
   "outputs": [],
   "source": [
    "num_one(number = 3, power = 5)"
   ]
  },
  {
   "cell_type": "code",
   "execution_count": null,
   "id": "953291b9",
   "metadata": {},
   "outputs": [],
   "source": [
    "#arbitary keyword argument\n",
    "#in the arbitary argument we have one star here we are going to have two of them\n",
    "\n",
    "def bri_an(**number):\n",
    "    print('My number is: ' + number['brim'])"
   ]
  },
  {
   "cell_type": "code",
   "execution_count": null,
   "id": "2561950f",
   "metadata": {},
   "outputs": [],
   "source": [
    "bri_an(brim = '356')"
   ]
  },
  {
   "cell_type": "code",
   "execution_count": null,
   "id": "cddb02f6",
   "metadata": {},
   "outputs": [],
   "source": [
    "# when dealing with more than one\n",
    "\n",
    "def muk_on(**arg):\n",
    "    print('My number is: ' + arg['brim'] + ' My other number is: ' + arg['trim'])"
   ]
  },
  {
   "cell_type": "code",
   "execution_count": null,
   "id": "9330a58c",
   "metadata": {},
   "outputs": [],
   "source": [
    "muk_on(brim = '356', trim = '987')"
   ]
  },
  {
   "cell_type": "markdown",
   "id": "bd24b4ef",
   "metadata": {},
   "source": [
    "# converting data types"
   ]
  },
  {
   "cell_type": "code",
   "execution_count": null,
   "id": "bec05497",
   "metadata": {},
   "outputs": [],
   "source": [
    "#converting integer and strings"
   ]
  },
  {
   "cell_type": "code",
   "execution_count": null,
   "id": "f7262586",
   "metadata": {},
   "outputs": [],
   "source": [
    "num_int = 9\n",
    "type(num_int)"
   ]
  },
  {
   "cell_type": "code",
   "execution_count": null,
   "id": "a577df19",
   "metadata": {},
   "outputs": [],
   "source": [
    "num_str = '8'\n",
    "type(num_str)"
   ]
  },
  {
   "cell_type": "code",
   "execution_count": null,
   "id": "fa837d9f",
   "metadata": {},
   "outputs": [],
   "source": [
    "# when converting string to integer\n",
    "\n",
    "str_con = int(num_str)"
   ]
  },
  {
   "cell_type": "code",
   "execution_count": null,
   "id": "78245777",
   "metadata": {},
   "outputs": [],
   "source": [
    "type(str_con)"
   ]
  },
  {
   "cell_type": "code",
   "execution_count": null,
   "id": "32d8de89",
   "metadata": {},
   "outputs": [],
   "source": [
    "#converting lists, sets and tuples"
   ]
  },
  {
   "cell_type": "code",
   "execution_count": null,
   "id": "cce3a9b6",
   "metadata": {},
   "outputs": [],
   "source": [
    "#converting list to tuple\n",
    "\n",
    "list_type = [1,2,3,4,5,6]\n",
    "type(list_type)"
   ]
  },
  {
   "cell_type": "code",
   "execution_count": null,
   "id": "9817ea5b",
   "metadata": {},
   "outputs": [],
   "source": [
    "tuple(list_type)"
   ]
  },
  {
   "cell_type": "code",
   "execution_count": null,
   "id": "1819c1aa",
   "metadata": {},
   "outputs": [],
   "source": [
    "type(tuple(list_type))"
   ]
  },
  {
   "cell_type": "code",
   "execution_count": null,
   "id": "af8020a2",
   "metadata": {},
   "outputs": [],
   "source": [
    "#converting a list into a set\n",
    "#when converting a list into a set only the unique data will be selected because set eliminates duplicates\n",
    "\n",
    "list_type = [1,2,3,4,3,4,2,3,9,78,5,4,5,2,1,0,4,6]\n",
    "set(list_type)"
   ]
  },
  {
   "cell_type": "code",
   "execution_count": null,
   "id": "7d9dfc83",
   "metadata": {},
   "outputs": [],
   "source": [
    "type(set(list_type))"
   ]
  },
  {
   "cell_type": "code",
   "execution_count": null,
   "id": "a6dc7bcb",
   "metadata": {},
   "outputs": [],
   "source": [
    "#converting dictionaries\n",
    "dict_cream = {'name': 'Brian Michael', 'weekly intake': 5, 'favourite car':['Bently','Buggati','Mercedes']}\n",
    "type(dict_cream)"
   ]
  },
  {
   "cell_type": "code",
   "execution_count": null,
   "id": "3a134c40",
   "metadata": {},
   "outputs": [],
   "source": [
    "dict_cream.items()"
   ]
  },
  {
   "cell_type": "code",
   "execution_count": null,
   "id": "0224b0c5",
   "metadata": {},
   "outputs": [],
   "source": [
    "dict_cream.values()"
   ]
  },
  {
   "cell_type": "code",
   "execution_count": null,
   "id": "274223e9",
   "metadata": {},
   "outputs": [],
   "source": [
    "dict_cream.keys()"
   ]
  },
  {
   "cell_type": "code",
   "execution_count": null,
   "id": "3c285c35",
   "metadata": {},
   "outputs": [],
   "source": [
    "#converting keys to a list\n",
    "list(dict_cream.keys())"
   ]
  },
  {
   "cell_type": "code",
   "execution_count": null,
   "id": "1b9f6e91",
   "metadata": {},
   "outputs": [],
   "source": [
    "type(list(dict_cream.keys()))"
   ]
  },
  {
   "cell_type": "code",
   "execution_count": null,
   "id": "c2e4d654",
   "metadata": {},
   "outputs": [],
   "source": [
    "#converting long strings into a list\n",
    "\n",
    "puma = 'i love getting things done the right way'\n",
    "list(puma)"
   ]
  },
  {
   "cell_type": "code",
   "execution_count": null,
   "id": "cba58d17",
   "metadata": {},
   "outputs": [],
   "source": [
    "type(list(puma))"
   ]
  },
  {
   "cell_type": "markdown",
   "id": "2925615f",
   "metadata": {},
   "source": [
    "# BMI calculator (body mass index)"
   ]
  },
  {
   "cell_type": "markdown",
   "id": "b80a3a25",
   "metadata": {},
   "source": [
    "#BMI Calculator reference\n",
    "https://mercer-health.com/services/weight-management-center/bmi-calculator#:~:text=Body%20Mass%20Index%2C%20or%20BMI,inches%20x%20height%20in%20inches"
   ]
  },
  {
   "cell_type": "code",
   "execution_count": null,
   "id": "5ec70175",
   "metadata": {},
   "outputs": [],
   "source": [
    "# BMI = (weight in kilogram) / (height in meters x height in meters)\n",
    "\n",
    "#Under 18.5\tUnderweight\tMinimal\n",
    "#18.5 - 24.9\tNormal Weight\tMinimal\n",
    "#25 - 29.9\tOverweight\tIncreased\n",
    "#30 - 34.9\tObese\tHigh\n",
    "#35 - 39.9\tSeverely Obese\tVery High\n",
    "#40 and over\tMorbidly Obese\tExtremely High\n",
    "\n",
    "Name = input('Enter your Name: ')\n",
    "weight = float(input('Enter your weight in kilograms: '))\n",
    "height = float(input('Enter your height in meters: '))\n",
    "BMI = (weight) / (height**2)\n",
    "print(BMI)\n",
    "\n",
    "\n",
    "if BMI < 18.5:\n",
    "    print(Name + ', You are underweight')\n",
    "elif BMI <= 24.9:\n",
    "    print(Name + ', You have a normal weight')\n",
    "elif BMI <= 29.9:\n",
    "    print(Name + ', You are overweight')\n",
    "elif BMI <= 34.9:\n",
    "    print(Name + ', You are Obese')\n",
    "elif BMI <= 39.9:\n",
    "    print(Name + ', You are Severly Obese')\n",
    "else:\n",
    "    print(Name + ', You are Morbidly Obese')"
   ]
  },
  {
   "cell_type": "markdown",
   "id": "06042a89",
   "metadata": {},
   "source": [
    "# Automatic file sorter in File explorer"
   ]
  },
  {
   "cell_type": "code",
   "execution_count": null,
   "id": "4d54b139",
   "metadata": {},
   "outputs": [],
   "source": [
    "# the OS module       (that is what i should learn before doing this project)"
   ]
  },
  {
   "cell_type": "code",
   "execution_count": null,
   "id": "210a03a6",
   "metadata": {},
   "outputs": [],
   "source": []
  },
  {
   "cell_type": "markdown",
   "id": "3c9d1d55",
   "metadata": {},
   "source": [
    "# Key data structrures for data science"
   ]
  },
  {
   "cell_type": "markdown",
   "id": "cc2088dd",
   "metadata": {},
   "source": [
    "# string functions\n",
    "\n",
    "# 1.lower and Upper"
   ]
  },
  {
   "cell_type": "code",
   "execution_count": null,
   "id": "be6cdd58",
   "metadata": {},
   "outputs": [],
   "source": [
    "#used to change strings to lower case or upper case\n",
    "\n",
    "scum = 'Everything you see around you'\n",
    "scum.upper()"
   ]
  },
  {
   "cell_type": "code",
   "execution_count": null,
   "id": "d7adaad9",
   "metadata": {},
   "outputs": [],
   "source": [
    "Town = 'WHERE THERE ARE MANY OPPOTUNITIES TO MAKE MONEY'\n",
    "Town.lower()"
   ]
  },
  {
   "cell_type": "markdown",
   "id": "9735593e",
   "metadata": {},
   "source": [
    "# 2. Strip"
   ]
  },
  {
   "cell_type": "code",
   "execution_count": null,
   "id": "b4b2c617",
   "metadata": {},
   "outputs": [],
   "source": [
    "#used to get rid of white space and even new lines in a string\n",
    "\n",
    "sing = '  everything is cool\\n'\n",
    "print(sing)"
   ]
  },
  {
   "cell_type": "code",
   "execution_count": null,
   "id": "99560eff",
   "metadata": {},
   "outputs": [],
   "source": [
    "sing.strip()"
   ]
  },
  {
   "cell_type": "code",
   "execution_count": null,
   "id": "bfd9e9f4",
   "metadata": {},
   "outputs": [],
   "source": [
    "#also used to get rid of other values within a string\n",
    "\n",
    "make = '*****2345*****'\n",
    "print(make)"
   ]
  },
  {
   "cell_type": "code",
   "execution_count": null,
   "id": "70c15d17",
   "metadata": {},
   "outputs": [],
   "source": [
    "make.strip('*')"
   ]
  },
  {
   "cell_type": "markdown",
   "id": "6ea98476",
   "metadata": {},
   "source": [
    "# 3. split"
   ]
  },
  {
   "cell_type": "code",
   "execution_count": null,
   "id": "7ae7238b",
   "metadata": {},
   "outputs": [],
   "source": [
    "#used to return a list of words in a long string\n",
    "\n",
    "lop = 'let us all play with the new guy'\n",
    "lop.split(' ')"
   ]
  },
  {
   "cell_type": "markdown",
   "id": "e9b75e10",
   "metadata": {},
   "source": [
    "# 4.string formatting\n"
   ]
  },
  {
   "cell_type": "code",
   "execution_count": null,
   "id": "f1379a3c",
   "metadata": {},
   "outputs": [],
   "source": [
    "#uses the format function   ---- used to add some words to a string\n",
    "\n",
    "statement = 'we love {} {}'\n",
    "statement.format('data','stealing')\n",
    "print(statement.format('data','stealing'))"
   ]
  },
  {
   "cell_type": "markdown",
   "id": "9e938520",
   "metadata": {},
   "source": [
    "# Numpy "
   ]
  },
  {
   "cell_type": "markdown",
   "id": "9ae2a903",
   "metadata": {},
   "source": [
    "## numpy array"
   ]
  },
  {
   "cell_type": "code",
   "execution_count": null,
   "id": "2dec3a10",
   "metadata": {},
   "outputs": [],
   "source": [
    "#numpy can be used to store a bunch of data in multidimensional array (1,2,3)\n",
    "#numpy is used because it tends to be faster than using list"
   ]
  },
  {
   "cell_type": "markdown",
   "id": "9b2aa0dc",
   "metadata": {},
   "source": [
    "## application of Numpy\n",
    "\n",
    "Mathematics(MATLAB Replacement), \n",
    "Plotting (Matplotlib), \n",
    "It is Backend of (Pandas, Connect 4, Digital Photography), \n",
    "Machine Learning"
   ]
  },
  {
   "cell_type": "code",
   "execution_count": null,
   "id": "fc77ab9c",
   "metadata": {},
   "outputs": [],
   "source": [
    "import numpy as np"
   ]
  },
  {
   "cell_type": "markdown",
   "id": "8b7e10b2",
   "metadata": {},
   "source": [
    "### Basics"
   ]
  },
  {
   "cell_type": "code",
   "execution_count": null,
   "id": "84f70f68",
   "metadata": {},
   "outputs": [],
   "source": [
    "#how to initialise an array\n",
    "\n",
    "a = np.array([1,2,3])          # this is a one dimensional array\n",
    "print(a)"
   ]
  },
  {
   "cell_type": "code",
   "execution_count": null,
   "id": "884f2a39",
   "metadata": {},
   "outputs": [],
   "source": [
    "b = np.array([[9.0,8.2,7.5,1.0],[5.3,8.0,9.0,1.2]])     # this is a two dimensional array of data type floats\n",
    "print(b)"
   ]
  },
  {
   "cell_type": "code",
   "execution_count": null,
   "id": "0ca66bd7",
   "metadata": {},
   "outputs": [],
   "source": [
    "# how to get the dimension of your array\n",
    "a.ndim"
   ]
  },
  {
   "cell_type": "code",
   "execution_count": null,
   "id": "f71b8261",
   "metadata": {},
   "outputs": [],
   "source": [
    "b.ndim"
   ]
  },
  {
   "cell_type": "code",
   "execution_count": null,
   "id": "57d8ea5a",
   "metadata": {},
   "outputs": [],
   "source": [
    "# to get the shape \n",
    "a.shape"
   ]
  },
  {
   "cell_type": "code",
   "execution_count": null,
   "id": "07b13e41",
   "metadata": {},
   "outputs": [],
   "source": [
    "b.shape     #(2,4) = says two rows and four columns"
   ]
  },
  {
   "cell_type": "code",
   "execution_count": null,
   "id": "8a6c61b7",
   "metadata": {},
   "outputs": [],
   "source": [
    "# to get type\n",
    "b.dtype"
   ]
  },
  {
   "cell_type": "code",
   "execution_count": null,
   "id": "91a5f564",
   "metadata": {},
   "outputs": [],
   "source": [
    "# to get size\n",
    "b.itemsize"
   ]
  },
  {
   "cell_type": "markdown",
   "id": "bb583920",
   "metadata": {},
   "source": [
    "## Accessing/ changing specific elements, rows, columns e.t.c"
   ]
  },
  {
   "cell_type": "code",
   "execution_count": null,
   "id": "fe722ef1",
   "metadata": {},
   "outputs": [],
   "source": [
    "a = np.array([[8,6,5,3,8,9,1],[7,5,3,1,9,5,3]])\n",
    "print(a)"
   ]
  },
  {
   "cell_type": "code",
   "execution_count": null,
   "id": "7271373f",
   "metadata": {},
   "outputs": [],
   "source": [
    "a.shape"
   ]
  },
  {
   "cell_type": "code",
   "execution_count": null,
   "id": "927452aa",
   "metadata": {},
   "outputs": [],
   "source": [
    "# geting a specific element  [row,column] (first row and column are 0)\n",
    "# lets get 7\n",
    "\n",
    "a[1,0]"
   ]
  },
  {
   "cell_type": "code",
   "execution_count": null,
   "id": "07dba9a6",
   "metadata": {},
   "outputs": [],
   "source": [
    "# to get an entire row\n",
    "a[0, :]"
   ]
  },
  {
   "cell_type": "code",
   "execution_count": null,
   "id": "e9f73b20",
   "metadata": {},
   "outputs": [],
   "source": [
    "# to get a specific column\n",
    "a[:, 4]"
   ]
  },
  {
   "cell_type": "code",
   "execution_count": null,
   "id": "db7f9ae6",
   "metadata": {},
   "outputs": [],
   "source": [
    "a[0, 1:6]"
   ]
  },
  {
   "cell_type": "code",
   "execution_count": null,
   "id": "00d24e67",
   "metadata": {},
   "outputs": [],
   "source": [
    "# changing elements (lets change 7 to 13)\n",
    "a[1,0]=13\n",
    "print(a)"
   ]
  },
  {
   "cell_type": "markdown",
   "id": "bd7ca376",
   "metadata": {},
   "source": [
    "* 3D example"
   ]
  },
  {
   "cell_type": "code",
   "execution_count": null,
   "id": "7f9e17db",
   "metadata": {},
   "outputs": [],
   "source": [
    "b = np.array([[[1,2],[3,4]],[[5,6],[7,8]]])\n",
    "print(b)"
   ]
  },
  {
   "cell_type": "code",
   "execution_count": null,
   "id": "8fc60a1f",
   "metadata": {},
   "outputs": [],
   "source": [
    "b.size"
   ]
  },
  {
   "cell_type": "code",
   "execution_count": null,
   "id": "1d4e7582",
   "metadata": {},
   "outputs": [],
   "source": [
    "b.ndim"
   ]
  },
  {
   "cell_type": "code",
   "execution_count": null,
   "id": "187e8c8b",
   "metadata": {},
   "outputs": [],
   "source": [
    "# getting specuific element\n",
    "\n",
    "b[0,0,1]"
   ]
  },
  {
   "cell_type": "markdown",
   "id": "fa00e1da",
   "metadata": {},
   "source": [
    "## Initializing Different types of Arrays"
   ]
  },
  {
   "cell_type": "code",
   "execution_count": null,
   "id": "d2fade5b",
   "metadata": {},
   "outputs": [],
   "source": [
    "# All zeros(0s) matrix  (return a new array of a given shape and type, filled with zeros)\n",
    "\n",
    "np.zeros((2,3))"
   ]
  },
  {
   "cell_type": "code",
   "execution_count": null,
   "id": "8a084562",
   "metadata": {},
   "outputs": [],
   "source": [
    "np.zeros((4,4,2))"
   ]
  },
  {
   "cell_type": "code",
   "execution_count": null,
   "id": "ec3c294c",
   "metadata": {},
   "outputs": [],
   "source": [
    "# All ones(1s) matrix (returns a new array filled with 1s)\n",
    "\n",
    "np.ones((2,3,4))"
   ]
  },
  {
   "cell_type": "code",
   "execution_count": null,
   "id": "37bf04ab",
   "metadata": {},
   "outputs": [],
   "source": [
    "# Any other number matrix   (you specify the shape and also the values)\n",
    "\n",
    "np.full((3,2,2), 22)     #(22 is the value to be filled that i have specified)"
   ]
  },
  {
   "cell_type": "code",
   "execution_count": null,
   "id": "fd54cd8c",
   "metadata": {},
   "outputs": [],
   "source": [
    "# Any other number (np.full_like)  (enables us to take a shape that has already been build)\n",
    "a = np.array([[8,6,5,3,8,9,1],[7,5,3,1,9,5,3]])\n",
    "a"
   ]
  },
  {
   "cell_type": "code",
   "execution_count": null,
   "id": "48add5fc",
   "metadata": {},
   "outputs": [],
   "source": [
    "np.full_like(a, 3)"
   ]
  },
  {
   "cell_type": "code",
   "execution_count": null,
   "id": "f19b495f",
   "metadata": {},
   "outputs": [],
   "source": [
    "#Random decimal numbers(random.rand)\n",
    "\n",
    "np.random.rand(3,2)"
   ]
  },
  {
   "cell_type": "code",
   "execution_count": null,
   "id": "71bb21f1",
   "metadata": {},
   "outputs": [],
   "source": [
    "#Random integer values(np.random.randint)\n",
    "# 2 --- is the position argument\n",
    "\n",
    "np.random.randint(9,size=(4,3))"
   ]
  },
  {
   "cell_type": "code",
   "execution_count": null,
   "id": "6dfb1c80",
   "metadata": {},
   "outputs": [],
   "source": [
    "#The identity matrix (its always a square so it requires one agument)\n",
    "\n",
    "np.identity(4)"
   ]
  },
  {
   "cell_type": "code",
   "execution_count": null,
   "id": "61238799",
   "metadata": {},
   "outputs": [],
   "source": [
    "# Repeat a array (i have used in in a two dimensional array)\n",
    "\n",
    "arr = np.array([[5,4,3,2]])\n",
    "r1 = np.repeat(arr,3, axis=0)\n",
    "print(r1)"
   ]
  },
  {
   "cell_type": "code",
   "execution_count": null,
   "id": "9a6ce494",
   "metadata": {},
   "outputs": [],
   "source": [
    "arg = np.array([[5,6,7,8],[9,7,8,5]])\n",
    "print(arg)"
   ]
  },
  {
   "cell_type": "code",
   "execution_count": null,
   "id": "83c8454d",
   "metadata": {},
   "outputs": [],
   "source": [
    "output = np.ones((5,5))\n",
    "print(output)\n",
    "\n",
    "z = np.zeros((3,3))\n",
    "z[1,1]=9\n",
    "print(z)\n",
    "output[1:4,1:4] = z\n",
    "print(output)"
   ]
  },
  {
   "cell_type": "markdown",
   "id": "5946d89e",
   "metadata": {},
   "source": [
    "### when copying contents of another variable"
   ]
  },
  {
   "cell_type": "code",
   "execution_count": null,
   "id": "0b8d3d81",
   "metadata": {},
   "outputs": [],
   "source": [
    "# when you want to copy the contents of another variable you need to use the (.copy())\n",
    "#the example below\n",
    "\n",
    "a = np.array([1,2,3,4])\n",
    "b = a\n",
    "b[0] =1000\n",
    "b\n",
    "a"
   ]
  },
  {
   "cell_type": "code",
   "execution_count": null,
   "id": "cd382d7e",
   "metadata": {},
   "outputs": [],
   "source": [
    "# when copying to use it diferrently\n",
    "\n",
    "a = np.array([5,4,6,8])\n",
    "b = a.copy()\n",
    "b[0]= 100\n",
    "b\n",
    "a"
   ]
  },
  {
   "cell_type": "markdown",
   "id": "cf523458",
   "metadata": {},
   "source": [
    "## Mathematics using numpy"
   ]
  },
  {
   "cell_type": "code",
   "execution_count": null,
   "id": "d199d1a3",
   "metadata": {},
   "outputs": [],
   "source": [
    "a = np.array([1,2,3,4])\n",
    "a"
   ]
  },
  {
   "cell_type": "code",
   "execution_count": null,
   "id": "cb1b7a6f",
   "metadata": {},
   "outputs": [],
   "source": [
    "#addition\n",
    "# this adds it to all the values within the array\n",
    "\n",
    "a+2"
   ]
  },
  {
   "cell_type": "code",
   "execution_count": null,
   "id": "dc4a81af",
   "metadata": {},
   "outputs": [],
   "source": [
    "#subtraction(also subtracts everything from the array)\n",
    "\n",
    "a - 4"
   ]
  },
  {
   "cell_type": "code",
   "execution_count": null,
   "id": "ecf9308c",
   "metadata": {},
   "outputs": [],
   "source": [
    "#multiplication\n",
    "a * 4"
   ]
  },
  {
   "cell_type": "code",
   "execution_count": null,
   "id": "1bbab818",
   "metadata": {},
   "outputs": [],
   "source": [
    "#division\n",
    "a / 2"
   ]
  },
  {
   "cell_type": "code",
   "execution_count": null,
   "id": "4d789fd1",
   "metadata": {},
   "outputs": [],
   "source": [
    "b = np.array([3,4,5,8])\n",
    "a + b"
   ]
  },
  {
   "cell_type": "code",
   "execution_count": null,
   "id": "6e872cfb",
   "metadata": {},
   "outputs": [],
   "source": [
    "np.sin(a)"
   ]
  },
  {
   "cell_type": "code",
   "execution_count": null,
   "id": "9a1cd057",
   "metadata": {},
   "outputs": [],
   "source": [
    "np.cos(a)"
   ]
  },
  {
   "cell_type": "markdown",
   "id": "2be26f43",
   "metadata": {},
   "source": [
    "#### Numpy mathematical Documentation\n",
    "####  For a lot more (https://docs.scipy.org/doc/numpy/reference/routines.math.html)"
   ]
  },
  {
   "cell_type": "code",
   "execution_count": null,
   "id": "adcd38d2",
   "metadata": {},
   "outputs": [],
   "source": []
  },
  {
   "cell_type": "code",
   "execution_count": null,
   "id": "758bc953",
   "metadata": {},
   "outputs": [],
   "source": [
    "a = np .array([7,4,7,9,7,5])\n",
    "a"
   ]
  },
  {
   "cell_type": "code",
   "execution_count": null,
   "id": "fd3e997b",
   "metadata": {},
   "outputs": [],
   "source": [
    "a * 10"
   ]
  },
  {
   "cell_type": "code",
   "execution_count": null,
   "id": "fabdc6ca",
   "metadata": {},
   "outputs": [],
   "source": [
    "a"
   ]
  },
  {
   "cell_type": "code",
   "execution_count": null,
   "id": "40797895",
   "metadata": {},
   "outputs": [],
   "source": [
    "a += 10\n",
    "a"
   ]
  },
  {
   "cell_type": "code",
   "execution_count": null,
   "id": "851104a0",
   "metadata": {},
   "outputs": [],
   "source": [
    "a"
   ]
  },
  {
   "cell_type": "code",
   "execution_count": null,
   "id": "c1275e79",
   "metadata": {},
   "outputs": [],
   "source": [
    "a = np.arange(9)\n",
    "a"
   ]
  },
  {
   "cell_type": "code",
   "execution_count": null,
   "id": "be24e3cd",
   "metadata": {},
   "outputs": [],
   "source": [
    "a <= 3"
   ]
  },
  {
   "cell_type": "code",
   "execution_count": null,
   "id": "639ceb7f",
   "metadata": {},
   "outputs": [],
   "source": [
    "a > 6"
   ]
  },
  {
   "cell_type": "code",
   "execution_count": null,
   "id": "3ecb147f",
   "metadata": {},
   "outputs": [],
   "source": [
    "a.mean()"
   ]
  },
  {
   "cell_type": "markdown",
   "id": "382269b5",
   "metadata": {},
   "source": [
    "### Linear Algebra"
   ]
  },
  {
   "cell_type": "code",
   "execution_count": null,
   "id": "abedd9d2",
   "metadata": {},
   "outputs": [],
   "source": [
    "# Linear Algebra is the one of the most important part in machine learning\n",
    "\n",
    "a = np.ones((2,3))\n",
    "print(a)\n",
    "\n",
    "b = np.full((3,2), 2)\n",
    "print(b)\n",
    "\n",
    "np.matmul(a,b)"
   ]
  },
  {
   "cell_type": "code",
   "execution_count": null,
   "id": "7749cbbc",
   "metadata": {},
   "outputs": [],
   "source": [
    "### DO MORE ABOUT LINEAR ALGEBRA AND NUMPY THAT WILL ALSO BE USED IN MACHINE LEARNING"
   ]
  },
  {
   "cell_type": "markdown",
   "id": "c0c1a56b",
   "metadata": {},
   "source": [
    "### Statistics"
   ]
  },
  {
   "cell_type": "code",
   "execution_count": null,
   "id": "edc3c6ab",
   "metadata": {},
   "outputs": [],
   "source": [
    "## Mean, mediun, Max, min\n",
    "\n",
    "doo = np.array([[5,4,6,7],[8,7,9,6]])\n",
    "doo"
   ]
  },
  {
   "cell_type": "code",
   "execution_count": null,
   "id": "7f2f326b",
   "metadata": {},
   "outputs": [],
   "source": [
    "np.min(doo)"
   ]
  },
  {
   "cell_type": "code",
   "execution_count": null,
   "id": "2e107386",
   "metadata": {},
   "outputs": [],
   "source": [
    "np.sum(doo)"
   ]
  },
  {
   "cell_type": "markdown",
   "id": "6ed0b8c3",
   "metadata": {},
   "source": [
    "## Reorganizing Arrays"
   ]
  },
  {
   "cell_type": "code",
   "execution_count": null,
   "id": "7723943b",
   "metadata": {},
   "outputs": [],
   "source": [
    "# This is used to mainly change the shapes of arrays(Use the .reshape)\n",
    "\n",
    "hell = np.array([[5,6,8,9,2],[7,9,4,6,2]])\n",
    "print(hell)\n",
    "\n",
    "hello = hell.reshape((5,2))\n",
    "print(hello)"
   ]
  },
  {
   "cell_type": "code",
   "execution_count": null,
   "id": "6d218c9e",
   "metadata": {},
   "outputs": [],
   "source": [
    "# Vertically stacking vectors\n",
    "\n",
    "v1 = np.array([1,2,3,4])\n",
    "v2 = np.array([5,6,7,8])\n",
    "\n",
    "np.vstack([v1,v2])\n",
    "np.vstack([v1,v2,v2,v1])"
   ]
  },
  {
   "cell_type": "code",
   "execution_count": null,
   "id": "0a5bdb43",
   "metadata": {},
   "outputs": [],
   "source": [
    "# horizontal stack\n",
    "\n",
    "h1 = np.ones((2,4))\n",
    "h2 = np.zeros((2,2))\n",
    "\n",
    "np.hstack((h1,h2))"
   ]
  },
  {
   "cell_type": "markdown",
   "id": "4b04f3b0",
   "metadata": {},
   "source": [
    "## Miscellaneous\n",
    "### Load Data from file"
   ]
  },
  {
   "cell_type": "code",
   "execution_count": null,
   "id": "da8aa875",
   "metadata": {},
   "outputs": [],
   "source": [
    "np.genfromcsv('Excel project')"
   ]
  },
  {
   "cell_type": "code",
   "execution_count": null,
   "id": "e41480d2",
   "metadata": {},
   "outputs": [],
   "source": []
  },
  {
   "cell_type": "markdown",
   "id": "7a266046",
   "metadata": {},
   "source": [
    "# Pandas"
   ]
  },
  {
   "cell_type": "code",
   "execution_count": null,
   "id": "dd4f3104",
   "metadata": {},
   "outputs": [],
   "source": [
    "import pandas as pd"
   ]
  },
  {
   "cell_type": "markdown",
   "id": "e00280ca",
   "metadata": {},
   "source": [
    "### Importing Data into Jupyter notebook"
   ]
  },
  {
   "cell_type": "code",
   "execution_count": null,
   "id": "89f656c6",
   "metadata": {},
   "outputs": [],
   "source": [
    "# To import data you have to give the route that the data is supossed to follow use the (pd.read_csv)(csv is a file name)\n",
    "\n",
    "df = pd.read_csv('desktop/pandas/survey_results_public.csv')"
   ]
  },
  {
   "cell_type": "code",
   "execution_count": null,
   "id": "9e8fe3a2",
   "metadata": {},
   "outputs": [],
   "source": [
    "df"
   ]
  },
  {
   "cell_type": "code",
   "execution_count": null,
   "id": "5ac3bd76",
   "metadata": {},
   "outputs": [],
   "source": [
    "# to get to know the number of column and rows in your data (use the .shape attribute)\n",
    "\n",
    "df.shape"
   ]
  },
  {
   "cell_type": "markdown",
   "id": "0229435f",
   "metadata": {},
   "source": [
    "## Data types in pandas in our dataset\n",
    "#### Object means string\n",
    "#### Int64 is integer that stored in a 64 bit\n",
    "#### and float"
   ]
  },
  {
   "cell_type": "code",
   "execution_count": null,
   "id": "02a02d59",
   "metadata": {},
   "outputs": [],
   "source": [
    "#To get more information about the data you are using use (.info())\n",
    "#This gives you the columns and the data types that you are using\n",
    "\n",
    "df.info()"
   ]
  },
  {
   "cell_type": "code",
   "execution_count": null,
   "id": "c64cb691",
   "metadata": {},
   "outputs": [],
   "source": [
    "# To view all the columns in our dataset (.set_option('display.max_columns',_number of columns_))\n",
    "\n",
    "df = pd.read_csv('desktop/pandas/survey_results_public.csv')\n",
    "pd.set_option('display.max_columns', 79)\n",
    "df"
   ]
  },
  {
   "cell_type": "code",
   "execution_count": null,
   "id": "8d0da97f",
   "metadata": {},
   "outputs": [],
   "source": [
    "# i want to put a schema file that we have that have matching questions to the dataset that we have\n",
    "# so we will load in the schema file\n",
    "\n",
    "schema_df = pd.read_csv('desktop/pandas/survey_results_schema.csv')\n",
    "schema_df"
   ]
  },
  {
   "cell_type": "code",
   "execution_count": null,
   "id": "f2e71227",
   "metadata": {},
   "outputs": [],
   "source": [
    "# to view all rows of your dataset(pd.set_option('display.max_rows'_number of rows_))\n",
    "\n",
    "pd.set_option('display.max_rows', 79)\n",
    "schema_df"
   ]
  },
  {
   "cell_type": "code",
   "execution_count": null,
   "id": "d41fd8bf",
   "metadata": {},
   "outputs": [],
   "source": [
    "schema_df"
   ]
  },
  {
   "cell_type": "code",
   "execution_count": null,
   "id": "50b637e5",
   "metadata": {},
   "outputs": [],
   "source": [
    "df"
   ]
  },
  {
   "cell_type": "code",
   "execution_count": null,
   "id": "6d4b189a",
   "metadata": {},
   "outputs": [],
   "source": [
    "schema_df"
   ]
  },
  {
   "cell_type": "code",
   "execution_count": null,
   "id": "55af39fb",
   "metadata": {},
   "outputs": [],
   "source": [
    "# when you want to just see a certain amount of data(.head()) this for viewing the first 10 items\n",
    "\n",
    "schema_df.head(10)"
   ]
  },
  {
   "cell_type": "code",
   "execution_count": null,
   "id": "50f3940f",
   "metadata": {},
   "outputs": [],
   "source": [
    "#viewing the last 10(.tail())\n",
    "df.tail(10)"
   ]
  },
  {
   "cell_type": "markdown",
   "id": "c1dfbcf0",
   "metadata": {},
   "source": [
    "# dataframe and series data type"
   ]
  },
  {
   "cell_type": "markdown",
   "id": "f561bbaa",
   "metadata": {},
   "source": [
    "### dataframes"
   ]
  },
  {
   "cell_type": "code",
   "execution_count": null,
   "id": "ec4463c3",
   "metadata": {},
   "outputs": [],
   "source": [
    "# dataframe is madeup of multiple rows and also multiple columns ()\n",
    "# Dataframes are like storing data in python Dictionaries \n",
    "\n",
    "#example of data stored in a python dictionary\n",
    "\n",
    "dict_cream = {'name': ['Brian Michael','Owen Kelly', 'Candy Pange'], 'weekly intake': [5,6,9], 'favourite car':['Bently','Buggati','Mercedes']}\n",
    "print(dict_cream)"
   ]
  },
  {
   "cell_type": "code",
   "execution_count": null,
   "id": "bb468397",
   "metadata": {},
   "outputs": [],
   "source": [
    "# Example of the same data stored using dataframes in pandas\n",
    "\n",
    "cp = pd.DataFrame(dict_cream)\n",
    "cp"
   ]
  },
  {
   "cell_type": "code",
   "execution_count": null,
   "id": "87373a6d",
   "metadata": {},
   "outputs": [],
   "source": [
    "cp['name']"
   ]
  },
  {
   "cell_type": "markdown",
   "id": "d0886568",
   "metadata": {},
   "source": [
    "## Series"
   ]
  },
  {
   "cell_type": "code",
   "execution_count": null,
   "id": "4dadf2ef",
   "metadata": {},
   "outputs": [],
   "source": [
    "# This is a list of Data . Its rows of data\n",
    "# Dataframe is rows and columns while a series is just rows"
   ]
  },
  {
   "cell_type": "code",
   "execution_count": null,
   "id": "01b9d377",
   "metadata": {},
   "outputs": [],
   "source": [
    "# Data in one row is called is series\n",
    "cp.name"
   ]
  },
  {
   "cell_type": "code",
   "execution_count": null,
   "id": "72b50f20",
   "metadata": {},
   "outputs": [],
   "source": [
    "#accessing multiple columns using dataframe\n",
    "\n",
    "cp[['name', 'weekly intake']]"
   ]
  },
  {
   "cell_type": "code",
   "execution_count": null,
   "id": "7567040d",
   "metadata": {},
   "outputs": [],
   "source": [
    "# Accessing rows use (loc) and (iloc) iloc means index location\n",
    "# when using (iloc) you search by integer location while in (loc) you search by label\n",
    "\n",
    "cp.iloc[[0,1]]"
   ]
  },
  {
   "cell_type": "code",
   "execution_count": null,
   "id": "1003b900",
   "metadata": {},
   "outputs": [],
   "source": [
    "# to select just a specific column in defferent row\n",
    "\n",
    "cp.iloc[[0,2], 2]"
   ]
  },
  {
   "cell_type": "code",
   "execution_count": null,
   "id": "3db1ddc8",
   "metadata": {},
   "outputs": [],
   "source": [
    "cp.loc[0]"
   ]
  },
  {
   "cell_type": "code",
   "execution_count": null,
   "id": "3ed374c3",
   "metadata": {},
   "outputs": [],
   "source": [
    "cp.loc[[0,1,2], 'favourite car']"
   ]
  },
  {
   "cell_type": "code",
   "execution_count": null,
   "id": "6fccdd93",
   "metadata": {},
   "outputs": [],
   "source": [
    "df"
   ]
  },
  {
   "cell_type": "code",
   "execution_count": null,
   "id": "0359c0cf",
   "metadata": {},
   "outputs": [],
   "source": [
    "df.shape"
   ]
  },
  {
   "cell_type": "code",
   "execution_count": null,
   "id": "1b6ee230",
   "metadata": {},
   "outputs": [],
   "source": [
    "su=df['RemoteWork']\n",
    "su.loc[0:50]"
   ]
  },
  {
   "cell_type": "code",
   "execution_count": null,
   "id": "1f62e752",
   "metadata": {},
   "outputs": [],
   "source": [
    "# Counts values in a column(.value_counts())\n",
    "\n",
    "df['RemoteWork'].value_counts()"
   ]
  },
  {
   "cell_type": "code",
   "execution_count": null,
   "id": "e9d3a5c4",
   "metadata": {},
   "outputs": [],
   "source": [
    "\n",
    "df.loc[0 : 1000, 'CompTotal' : 'LanguageHaveWorkedWith']"
   ]
  },
  {
   "cell_type": "markdown",
   "id": "bf7a77e6",
   "metadata": {},
   "source": [
    "## Indexes - How to set, Reset and use indexes"
   ]
  },
  {
   "cell_type": "code",
   "execution_count": null,
   "id": "1270b273",
   "metadata": {},
   "outputs": [],
   "source": [
    "# Indexes are the numbering that are automatically given to data at the far left side\n",
    "# we will first use a small amount of dataframe as an example\n",
    "\n",
    "dict_cream = {'name': ['Brian Michael','Owen Kelly', 'Candy Pange'], 'weekly intake': [5,6,9],'Email':['bri01@gmail.com','owen66@gmail.com','pang02@gmail.com'] ,'favourite car':['Bently','Buggati','Mercedes']}\n",
    "print(dict_cream)"
   ]
  },
  {
   "cell_type": "code",
   "execution_count": null,
   "id": "fe389e23",
   "metadata": {},
   "outputs": [],
   "source": [
    "poo = pd.DataFrame(dict_cream)\n",
    "poo"
   ]
  },
  {
   "cell_type": "code",
   "execution_count": null,
   "id": "a4c34981",
   "metadata": {},
   "outputs": [],
   "source": [
    "# Indexes is what identifies each and every data within our data\n",
    "# So lets set Email as our indexes because its unique on each and every person\n",
    "#use(.set_index)\n",
    "\n",
    "\n",
    "poo.set_index('Email')"
   ]
  },
  {
   "cell_type": "code",
   "execution_count": null,
   "id": "6a3d070f",
   "metadata": {},
   "outputs": [],
   "source": [
    "poo"
   ]
  },
  {
   "cell_type": "code",
   "execution_count": null,
   "id": "41b0915a",
   "metadata": {},
   "outputs": [],
   "source": [
    "# To make the indexing permarnent use (.set_index('name of column', inplace=True))\n",
    "\n",
    "poo.set_index('Email', inplace=True)\n",
    "poo"
   ]
  },
  {
   "cell_type": "code",
   "execution_count": null,
   "id": "ee8aea81",
   "metadata": {},
   "outputs": [],
   "source": [
    "poo.index"
   ]
  },
  {
   "cell_type": "code",
   "execution_count": null,
   "id": "b9210bb4",
   "metadata": {},
   "outputs": [],
   "source": [
    "# use can use the email indexes to obtain data about a specific person\n",
    "\n",
    "poo.loc['owen66@gmail.com']"
   ]
  },
  {
   "cell_type": "code",
   "execution_count": null,
   "id": "b54b3344",
   "metadata": {},
   "outputs": [],
   "source": [
    "# How to reset the indexes (.reset_index(inplace=True))\n",
    "\n",
    "poo.reset_index(inplace=True)\n",
    "poo"
   ]
  },
  {
   "cell_type": "code",
   "execution_count": null,
   "id": "a3c9040a",
   "metadata": {},
   "outputs": [],
   "source": [
    "df = pd.read_csv('desktop/pandas/survey_results_public.csv')\n",
    "schema_df = pd.read_csv('desktop/pandas/survey_results_schema.csv')\n",
    "df"
   ]
  },
  {
   "cell_type": "code",
   "execution_count": null,
   "id": "a042330c",
   "metadata": {},
   "outputs": [],
   "source": [
    "schema_df"
   ]
  },
  {
   "cell_type": "code",
   "execution_count": null,
   "id": "c610b9c6",
   "metadata": {},
   "outputs": [],
   "source": [
    "pd.set_option('display.max_column', 79)\n",
    "df"
   ]
  },
  {
   "cell_type": "code",
   "execution_count": null,
   "id": "25e75b5b",
   "metadata": {},
   "outputs": [],
   "source": [
    "df.loc[0 : 70, 'Country' : 'LanguageHaveWorkedWith']\n"
   ]
  },
  {
   "cell_type": "code",
   "execution_count": null,
   "id": "cd35f335",
   "metadata": {},
   "outputs": [],
   "source": [
    "# how to set a column as the index when you are loading in the data (, index_col = 'name of the column')\n",
    "\n",
    "df = pd.read_csv('desktop/pandas/survey_results_public.csv', index_col = 'Employment')\n",
    "df.head()"
   ]
  },
  {
   "cell_type": "code",
   "execution_count": null,
   "id": "88446576",
   "metadata": {},
   "outputs": [],
   "source": [
    "df['NEWCollabToolsWantToWorkWith'].value_counts()"
   ]
  },
  {
   "cell_type": "code",
   "execution_count": null,
   "id": "a9195d3e",
   "metadata": {},
   "outputs": [],
   "source": [
    "df['OpSysProfessional use'].value_counts()"
   ]
  },
  {
   "cell_type": "code",
   "execution_count": null,
   "id": "f8d001d4",
   "metadata": {},
   "outputs": [],
   "source": [
    "df['LanguageHaveWorkedWith'].value_counts()"
   ]
  },
  {
   "cell_type": "code",
   "execution_count": null,
   "id": "09ed22a2",
   "metadata": {},
   "outputs": [],
   "source": [
    "df['WebframeHaveWorkedWith'].value_counts()"
   ]
  },
  {
   "cell_type": "code",
   "execution_count": null,
   "id": "0adbc45c",
   "metadata": {},
   "outputs": [],
   "source": [
    "df['Gender'].value_counts()"
   ]
  },
  {
   "cell_type": "code",
   "execution_count": null,
   "id": "14ceac2c",
   "metadata": {},
   "outputs": [],
   "source": [
    "# To sort indexes alphabetically use (.sort_index)\n",
    "\n",
    "df.sort_index()"
   ]
  },
  {
   "cell_type": "code",
   "execution_count": null,
   "id": "33b963c7",
   "metadata": {},
   "outputs": [],
   "source": [
    "df['Country'].value_counts()"
   ]
  },
  {
   "cell_type": "markdown",
   "id": "fa9c0ff4",
   "metadata": {},
   "source": [
    "## Filtering  - using conditionals to fiolter Rows and columns"
   ]
  },
  {
   "cell_type": "code",
   "execution_count": null,
   "id": "10e0e6e5",
   "metadata": {},
   "outputs": [],
   "source": [
    "poo"
   ]
  },
  {
   "cell_type": "code",
   "execution_count": null,
   "id": "4d49f191",
   "metadata": {},
   "outputs": [],
   "source": [
    "# Filtering the data by the country in which respondents are located\n",
    "\n",
    "dus =(df['Country'] == 'South Africa')\n",
    "df.loc[dus]"
   ]
  },
  {
   "cell_type": "code",
   "execution_count": null,
   "id": "9833d20a",
   "metadata": {},
   "outputs": [],
   "source": [
    "# If you want to filter to a particular column\n",
    "\n",
    "dus =(df['Country'] == 'Uganda')\n",
    "df.loc[dus,'Employment']"
   ]
  },
  {
   "cell_type": "code",
   "execution_count": null,
   "id": "3e8cf106",
   "metadata": {},
   "outputs": [],
   "source": [
    "# filtering using ( & and |)\n",
    "\n",
    "dus =(df['Country'] == 'Uganda') & (df['RemoteWork'] == 'Fully remote')\n",
    "df.loc[dus,'LanguageHaveWorkedWith']"
   ]
  },
  {
   "cell_type": "code",
   "execution_count": null,
   "id": "27ce9c8c",
   "metadata": {},
   "outputs": [],
   "source": [
    "# filtering those with high salaries\n",
    "\n",
    "high_salary = (df['CompTotal'] > 70000)\n",
    "df.loc[high_salary, ['Country', 'Currency','LanguageHaveWorkedWith','CompFreq','CompTotal']]"
   ]
  },
  {
   "cell_type": "code",
   "execution_count": null,
   "id": "ceaead8d",
   "metadata": {},
   "outputs": [],
   "source": [
    "# learn about the string method in pandas"
   ]
  },
  {
   "cell_type": "markdown",
   "id": "2cd5764b",
   "metadata": {},
   "source": [
    "### Updating rows and columns -- Modifying data within Dataframes"
   ]
  },
  {
   "cell_type": "markdown",
   "id": "b201a32a",
   "metadata": {},
   "source": [
    "### updating the columns"
   ]
  },
  {
   "cell_type": "markdown",
   "id": "f92541e0",
   "metadata": {},
   "source": []
  },
  {
   "cell_type": "code",
   "execution_count": null,
   "id": "549229d1",
   "metadata": {},
   "outputs": [],
   "source": [
    "dict_cream = {'email':['brimic@gmail.com','owenke@gmail.com','candpa@gmail.com'],'first': ['Brian','Owen', 'Candy'],'last':['Michael', 'Kelly','Pange'], 'weekly intake': [5,6,9], 'favourite car':['Bently','Buggati','Mercedes']}\n",
    "print(dict_cream)"
   ]
  },
  {
   "cell_type": "code",
   "execution_count": null,
   "id": "81160c66",
   "metadata": {},
   "outputs": [],
   "source": [
    "poo = pd.DataFrame(dict_cream)\n",
    "poo"
   ]
  },
  {
   "cell_type": "code",
   "execution_count": null,
   "id": "356b30a1",
   "metadata": {},
   "outputs": [],
   "source": [
    "# changing columns names(.columns)\n",
    "\n",
    "poo.columns"
   ]
  },
  {
   "cell_type": "code",
   "execution_count": null,
   "id": "2713637f",
   "metadata": {},
   "outputs": [],
   "source": [
    "# This only used when you want to change all the column names\n",
    "poo.columns = ['EMAIL', 'FIRST', 'LAST', 'Weekly_intake', 'Favourite_car']\n",
    "poo.column"
   ]
  },
  {
   "cell_type": "code",
   "execution_count": null,
   "id": "b438a61d",
   "metadata": {},
   "outputs": [],
   "source": [
    "# To change the column names all to uppercase\n",
    "\n",
    "poo.columns = [x.upper() for x in poo.columns]\n",
    "poo"
   ]
  },
  {
   "cell_type": "code",
   "execution_count": null,
   "id": "0cc0cb20",
   "metadata": {},
   "outputs": [],
   "source": [
    "# To change spaces to underscores\n",
    "poo.columns = poo.columns.str.replace(' ', '_') # this won't work for us because we got no spaces on our column tittles\n",
    "poo"
   ]
  },
  {
   "cell_type": "code",
   "execution_count": null,
   "id": "6fd714dc",
   "metadata": {},
   "outputs": [],
   "source": [
    "# To change the uppercase to lowercase\n",
    "\n",
    "poo.columns = [x.lower() for x in poo.columns]\n",
    "poo"
   ]
  },
  {
   "cell_type": "code",
   "execution_count": null,
   "id": "d595e541",
   "metadata": {},
   "outputs": [],
   "source": [
    "# to just change specific values of the columns we will use (.rename) and pass in a dictionary\n",
    "\n",
    "poo.rename(columns={'email_address': 'email', 'full_name': 'name'}, inplace = True)\n",
    "poo"
   ]
  },
  {
   "cell_type": "markdown",
   "id": "8397487b",
   "metadata": {},
   "source": [
    "### updating rows"
   ]
  },
  {
   "cell_type": "code",
   "execution_count": null,
   "id": "e679fb02",
   "metadata": {},
   "outputs": [],
   "source": [
    "# to update the rows \n",
    "#This is used to change things within the rows mainly specific things\n",
    "\n",
    "poo.loc[2, ['name', 'favourite_car']] = ['Tracy Blundo', 'Mobius']\n",
    "poo"
   ]
  },
  {
   "cell_type": "code",
   "execution_count": null,
   "id": "dbf3b990",
   "metadata": {},
   "outputs": [],
   "source": [
    "# To change a single value\n",
    "\n",
    "poo.loc[2, 'email'] = 'tracyblu@gmail.com'\n",
    "poo"
   ]
  },
  {
   "cell_type": "code",
   "execution_count": null,
   "id": "2183cbf0",
   "metadata": {},
   "outputs": [],
   "source": [
    "# How to change multiple rows\n",
    "\n",
    "poo"
   ]
  },
  {
   "cell_type": "code",
   "execution_count": null,
   "id": "f3f551bc",
   "metadata": {},
   "outputs": [],
   "source": [
    "poo"
   ]
  },
  {
   "cell_type": "markdown",
   "id": "e529c0a7",
   "metadata": {},
   "source": [
    "# Learn Apply, map, applymap,  replace"
   ]
  },
  {
   "cell_type": "code",
   "execution_count": null,
   "id": "20bf92b1",
   "metadata": {},
   "outputs": [],
   "source": [
    "poo['email'].apply(len)"
   ]
  },
  {
   "cell_type": "code",
   "execution_count": null,
   "id": "28dfdf93",
   "metadata": {},
   "outputs": [],
   "source": []
  },
  {
   "cell_type": "markdown",
   "id": "b4645d8d",
   "metadata": {},
   "source": [
    "## Add/ Remove Rows and columns from dataframes"
   ]
  },
  {
   "cell_type": "code",
   "execution_count": null,
   "id": "63789918",
   "metadata": {},
   "outputs": [],
   "source": [
    "poo"
   ]
  },
  {
   "cell_type": "code",
   "execution_count": null,
   "id": "e87067df",
   "metadata": {},
   "outputs": [],
   "source": [
    "# Adding columns (use dictionaries)\n",
    "# Combining two columns to form one column\n",
    "\n",
    "poo['first'] + ' ' + poo['last']"
   ]
  },
  {
   "cell_type": "code",
   "execution_count": null,
   "id": "cf36d3ec",
   "metadata": {},
   "outputs": [],
   "source": [
    "poo['full_name'] = poo['first'] + ' ' + poo['last']"
   ]
  },
  {
   "cell_type": "code",
   "execution_count": null,
   "id": "46892036",
   "metadata": {},
   "outputs": [],
   "source": [
    "poo"
   ]
  },
  {
   "cell_type": "code",
   "execution_count": null,
   "id": "6005f350",
   "metadata": {},
   "outputs": [],
   "source": [
    "# REMOVING COLUMNS (drop)\n",
    "\n",
    "poo.drop(columns =['first','last'], inplace = True)"
   ]
  },
  {
   "cell_type": "code",
   "execution_count": null,
   "id": "dfefb36f",
   "metadata": {},
   "outputs": [],
   "source": [
    "poo"
   ]
  },
  {
   "cell_type": "code",
   "execution_count": null,
   "id": "70b7ae4e",
   "metadata": {},
   "outputs": [],
   "source": [
    "# SPLITING COLUMN (.str.split)\n",
    "# WE WILL ALSO USE THE EXPAND FUNCTION TO MAKE THEM INTO COLUMNS(EXPAND = TRUE)\n",
    "\n",
    "\n",
    "poo['full_name'].str.split(' ', expand = True)\n",
    "poo[['first', 'last']] = poo['full_name'].str.split(' ', expand = True)\n",
    "poo"
   ]
  },
  {
   "cell_type": "code",
   "execution_count": null,
   "id": "ef71e8f7",
   "metadata": {},
   "outputs": [],
   "source": [
    "# ADDING A SINGLE ROW (USE DICTIONARY)\n",
    "\n",
    "poo.append({'first':'Tracy', 'last': 'Akinyi', 'full_name': 'Tracy Akinyi', 'favourite_car': 'Gwagon', 'weekly_intake': 8,'email': 'tracyaki@gmail.com'}, ignore_index = True)"
   ]
  },
  {
   "cell_type": "code",
   "execution_count": null,
   "id": "a91ac160",
   "metadata": {},
   "outputs": [],
   "source": [
    "poo =poo.append({'first':'Tracy', 'last': 'Akinyi', 'full_name': 'Tracy Akinyi', 'favourite_car': 'Gwagon', 'weekly_intake': 8,'email': 'tracyaki@gmail.com'}, ignore_index = True)"
   ]
  },
  {
   "cell_type": "code",
   "execution_count": null,
   "id": "8f9f5b4e",
   "metadata": {},
   "outputs": [],
   "source": [
    "poo"
   ]
  },
  {
   "cell_type": "code",
   "execution_count": null,
   "id": "d69e7a4d",
   "metadata": {},
   "outputs": [],
   "source": [
    "poo.drop('name', axis=1, inplace=True)"
   ]
  },
  {
   "cell_type": "code",
   "execution_count": null,
   "id": "cbb4a1e5",
   "metadata": {},
   "outputs": [],
   "source": [
    "poo"
   ]
  },
  {
   "cell_type": "code",
   "execution_count": null,
   "id": "75ed3318",
   "metadata": {},
   "outputs": [],
   "source": [
    "#TO REMOVE ROWS (YOU WILL PASS IN THE INDEXES INSTEAD OF COLUMN USING DROP FUNCTION )"
   ]
  },
  {
   "cell_type": "code",
   "execution_count": null,
   "id": "97f16f86",
   "metadata": {},
   "outputs": [],
   "source": []
  },
  {
   "cell_type": "markdown",
   "id": "03402658",
   "metadata": {},
   "source": [
    "## sorting data"
   ]
  },
  {
   "cell_type": "code",
   "execution_count": null,
   "id": "4a386fd8",
   "metadata": {},
   "outputs": [],
   "source": [
    "poo"
   ]
  },
  {
   "cell_type": "code",
   "execution_count": null,
   "id": "1d77dba7",
   "metadata": {},
   "outputs": [],
   "source": []
  },
  {
   "cell_type": "code",
   "execution_count": null,
   "id": "28276f21",
   "metadata": {},
   "outputs": [],
   "source": []
  },
  {
   "cell_type": "code",
   "execution_count": null,
   "id": "d06eaadf",
   "metadata": {},
   "outputs": [],
   "source": []
  },
  {
   "cell_type": "code",
   "execution_count": null,
   "id": "b9462f1c",
   "metadata": {},
   "outputs": [],
   "source": []
  },
  {
   "cell_type": "code",
   "execution_count": null,
   "id": "75d14cf1",
   "metadata": {},
   "outputs": [],
   "source": []
  },
  {
   "cell_type": "code",
   "execution_count": null,
   "id": "0338a0fb",
   "metadata": {},
   "outputs": [],
   "source": []
  },
  {
   "cell_type": "code",
   "execution_count": null,
   "id": "4be70891",
   "metadata": {},
   "outputs": [],
   "source": []
  },
  {
   "cell_type": "code",
   "execution_count": null,
   "id": "0938e0b2",
   "metadata": {},
   "outputs": [],
   "source": []
  },
  {
   "cell_type": "code",
   "execution_count": null,
   "id": "a28b3487",
   "metadata": {},
   "outputs": [],
   "source": []
  },
  {
   "cell_type": "code",
   "execution_count": null,
   "id": "a5a833cd",
   "metadata": {},
   "outputs": [],
   "source": []
  },
  {
   "cell_type": "code",
   "execution_count": null,
   "id": "95bb9a69",
   "metadata": {},
   "outputs": [],
   "source": []
  },
  {
   "cell_type": "code",
   "execution_count": null,
   "id": "ebbb7789",
   "metadata": {},
   "outputs": [],
   "source": []
  },
  {
   "cell_type": "code",
   "execution_count": null,
   "id": "fc65cccf",
   "metadata": {},
   "outputs": [],
   "source": []
  },
  {
   "cell_type": "code",
   "execution_count": null,
   "id": "df0314fa",
   "metadata": {},
   "outputs": [],
   "source": []
  }
 ],
 "metadata": {
  "kernelspec": {
   "display_name": "Python 3 (ipykernel)",
   "language": "python",
   "name": "python3"
  },
  "language_info": {
   "codemirror_mode": {
    "name": "ipython",
    "version": 3
   },
   "file_extension": ".py",
   "mimetype": "text/x-python",
   "name": "python",
   "nbconvert_exporter": "python",
   "pygments_lexer": "ipython3",
   "version": "3.9.12"
  }
 },
 "nbformat": 4,
 "nbformat_minor": 5
}
