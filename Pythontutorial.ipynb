{
 "cells": [
  {
   "cell_type": "code",
   "execution_count": 1,
   "id": "0ff5f531",
   "metadata": {},
   "outputs": [
    {
     "name": "stdout",
     "output_type": "stream",
     "text": [
      "hello world\n"
     ]
    }
   ],
   "source": [
    "print(\"hello world\")"
   ]
  },
  {
   "cell_type": "markdown",
   "id": "e45d2444",
   "metadata": {},
   "source": [
    "# first notebook"
   ]
  },
  {
   "cell_type": "code",
   "execution_count": null,
   "id": "10b682d6",
   "metadata": {},
   "outputs": [],
   "source": []
  },
  {
   "cell_type": "markdown",
   "id": "f10799ee",
   "metadata": {},
   "source": [
    "#variables in python"
   ]
  },
  {
   "cell_type": "code",
   "execution_count": 3,
   "id": "45e72b7f",
   "metadata": {},
   "outputs": [
    {
     "name": "stdout",
     "output_type": "stream",
     "text": [
      "22\n"
     ]
    }
   ],
   "source": [
    "x = 22\n",
    "\n",
    "print(x)"
   ]
  },
  {
   "cell_type": "code",
   "execution_count": 4,
   "id": "5cf86833",
   "metadata": {},
   "outputs": [
    {
     "data": {
      "text/plain": [
       "int"
      ]
     },
     "execution_count": 4,
     "metadata": {},
     "output_type": "execute_result"
    }
   ],
   "source": [
    "type(x)"
   ]
  },
  {
   "cell_type": "code",
   "execution_count": 5,
   "id": "76ed4d77",
   "metadata": {},
   "outputs": [],
   "source": [
    "y = 'am good'"
   ]
  },
  {
   "cell_type": "code",
   "execution_count": 6,
   "id": "f74caf46",
   "metadata": {},
   "outputs": [
    {
     "data": {
      "text/plain": [
       "str"
      ]
     },
     "execution_count": 6,
     "metadata": {},
     "output_type": "execute_result"
    }
   ],
   "source": [
    "type(y)"
   ]
  },
  {
   "cell_type": "code",
   "execution_count": 7,
   "id": "e1fffb92",
   "metadata": {},
   "outputs": [
    {
     "name": "stdout",
     "output_type": "stream",
     "text": [
      "vanilla\n",
      "mint\n",
      "hello\n"
     ]
    }
   ],
   "source": [
    "x,y,z = 'vanilla', 'mint', 'hello'\n",
    "\n",
    "print(x)\n",
    "print(y)\n",
    "print(z)"
   ]
  },
  {
   "cell_type": "markdown",
   "id": "d467457f",
   "metadata": {},
   "source": [
    "# list"
   ]
  },
  {
   "cell_type": "code",
   "execution_count": 9,
   "id": "6ac381fa",
   "metadata": {},
   "outputs": [
    {
     "name": "stdout",
     "output_type": "stream",
     "text": [
      "chocolate\n",
      "Vanilla\n",
      "Rocky road\n"
     ]
    }
   ],
   "source": [
    "ice_cream = ['chocolate','Vanilla', 'Rocky road']\n",
    "x,y,z = ice_cream\n",
    "print(x)\n",
    "print(y)\n",
    "print(z)"
   ]
  },
  {
   "cell_type": "code",
   "execution_count": null,
   "id": "d13397f3",
   "metadata": {},
   "outputs": [],
   "source": [
    "# the best way to write a varioable\n",
    "# 1 by using underscore infront or between the words\n",
    "\n",
    "ice_cream = 'Vanilla'\n",
    "_icecream = 'Vanilla'\n",
    "_ice_cream = 'Vanilla'\n",
    "\n",
    "\n",
    "#the wrong ways to write variables\n",
    "# 1 beginning variables with numbers\n",
    "\n",
    "2icecream = 'vanilla'"
   ]
  },
  {
   "cell_type": "markdown",
   "id": "2d96bbd5",
   "metadata": {},
   "source": [
    "# python data types"
   ]
  },
  {
   "cell_type": "code",
   "execution_count": 10,
   "id": "5cc9f263",
   "metadata": {},
   "outputs": [
    {
     "data": {
      "text/plain": [
       "int"
      ]
     },
     "execution_count": 10,
     "metadata": {},
     "output_type": "execute_result"
    }
   ],
   "source": [
    "#numeric data types\n",
    "#1 integers = this are whole numbers both positive and negative\n",
    "\n",
    "type(-12+44)"
   ]
  },
  {
   "cell_type": "code",
   "execution_count": 11,
   "id": "506da95d",
   "metadata": {},
   "outputs": [
    {
     "data": {
      "text/plain": [
       "float"
      ]
     },
     "execution_count": 11,
     "metadata": {},
     "output_type": "execute_result"
    }
   ],
   "source": [
    "#2 float = this are numerics that have decimal places \n",
    "\n",
    "type(10.5)\n",
    "type(12+12.6)"
   ]
  },
  {
   "cell_type": "code",
   "execution_count": 16,
   "id": "f5afe838",
   "metadata": {},
   "outputs": [
    {
     "data": {
      "text/plain": [
       "complex"
      ]
     },
     "execution_count": 16,
     "metadata": {},
     "output_type": "execute_result"
    }
   ],
   "source": [
    "#3 complex = this are numerical data with letters in them that are like imaginary numbers\n",
    "#  J is the only letter that is used in complex (if you use anyother letter you will get an error)\n",
    "\n",
    "type(12+5j)"
   ]
  },
  {
   "cell_type": "code",
   "execution_count": 19,
   "id": "7972c5bd",
   "metadata": {},
   "outputs": [
    {
     "data": {
      "text/plain": [
       "bool"
      ]
     },
     "execution_count": 19,
     "metadata": {},
     "output_type": "execute_result"
    }
   ],
   "source": [
    "# Boolean \n",
    "# this are only used to produce either a true or false results\n",
    "\n",
    "type(True)\n",
    "type(False)\n",
    "\n",
    "#example use case\n",
    "\n",
    "type(1 > 5)"
   ]
  },
  {
   "cell_type": "code",
   "execution_count": 20,
   "id": "3dd1a0e6",
   "metadata": {},
   "outputs": [
    {
     "data": {
      "text/plain": [
       "False"
      ]
     },
     "execution_count": 20,
     "metadata": {},
     "output_type": "execute_result"
    }
   ],
   "source": [
    "1 > 5"
   ]
  },
  {
   "cell_type": "code",
   "execution_count": 21,
   "id": "41a9e026",
   "metadata": {},
   "outputs": [
    {
     "data": {
      "text/plain": [
       "str"
      ]
     },
     "execution_count": 21,
     "metadata": {},
     "output_type": "execute_result"
    }
   ],
   "source": [
    "# strings\n",
    "# when assigning strings to a variable you should use Quatation marks\n",
    "\n",
    "y = 'hae, eveyone'\n",
    "type(y)"
   ]
  },
  {
   "cell_type": "code",
   "execution_count": null,
   "id": "5c3dc77c",
   "metadata": {},
   "outputs": [],
   "source": [
    "#when using strings there are use of single quatation and double quatation which are used to do the same task\n",
    "\n",
    "x = 'life is good'\n",
    "x = \"life is good\"\n"
   ]
  },
  {
   "cell_type": "code",
   "execution_count": 22,
   "id": "abbbb656",
   "metadata": {},
   "outputs": [],
   "source": [
    "#triple quatations are used when you want to write a large amount of text like a poem or paragraph\n",
    "\n",
    "multiline = \"\"\"\n",
    "The ice cream vanquished\n",
    "my longing for sweets,\n",
    "upon this diet i look away,\n",
    "it no longer exists on this day\n",
    "\"\"\""
   ]
  },
  {
   "cell_type": "code",
   "execution_count": 23,
   "id": "3c41f88f",
   "metadata": {},
   "outputs": [
    {
     "name": "stdout",
     "output_type": "stream",
     "text": [
      "\n",
      "The ice cream vanquished\n",
      "my longing for sweets,\n",
      "upon this diet i look away,\n",
      "it no longer exists on this day\n",
      "\n"
     ]
    }
   ],
   "source": [
    "print(multiline)"
   ]
  },
  {
   "cell_type": "code",
   "execution_count": 24,
   "id": "7da52bbf",
   "metadata": {},
   "outputs": [
    {
     "data": {
      "text/plain": [
       "str"
      ]
     },
     "execution_count": 24,
     "metadata": {},
     "output_type": "execute_result"
    }
   ],
   "source": [
    "type(multiline)"
   ]
  },
  {
   "cell_type": "code",
   "execution_count": 25,
   "id": "21700cec",
   "metadata": {},
   "outputs": [
    {
     "name": "stdout",
     "output_type": "stream",
     "text": [
      "hello\n"
     ]
    }
   ],
   "source": [
    "a= 'hello world'\n",
    "print(a[:5])"
   ]
  },
  {
   "cell_type": "code",
   "execution_count": 26,
   "id": "614d7017",
   "metadata": {},
   "outputs": [
    {
     "data": {
      "text/plain": [
       "[1, 2, 3, 4, 5]"
      ]
     },
     "execution_count": 26,
     "metadata": {},
     "output_type": "execute_result"
    }
   ],
   "source": [
    "#list\n",
    "#stores multuiple values list are stored in brackets[]\n",
    "# list are positioned just as strings and a position 0 we have 1\n",
    "\n",
    "[1,2,3,4,5]"
   ]
  },
  {
   "cell_type": "code",
   "execution_count": 27,
   "id": "506be500",
   "metadata": {},
   "outputs": [
    {
     "data": {
      "text/plain": [
       "['BMW', 'Mercedes', 'Bently', 'Ferrari', 'Maybach']"
      ]
     },
     "execution_count": 27,
     "metadata": {},
     "output_type": "execute_result"
    }
   ],
   "source": [
    "['BMW','Mercedes','Bently','Ferrari','Maybach']"
   ]
  },
  {
   "cell_type": "code",
   "execution_count": 28,
   "id": "b75f3f83",
   "metadata": {},
   "outputs": [
    {
     "data": {
      "text/plain": [
       "['BMW', 'Mercedes', 'Bently', 'Ferrari', 'Maybach', 'Buggati']"
      ]
     },
     "execution_count": 28,
     "metadata": {},
     "output_type": "execute_result"
    }
   ],
   "source": [
    "#to add a value to a list you use (.append) this adds to the furthest part\n",
    "\n",
    "cars = ['BMW','Mercedes','Bently','Ferrari','Maybach']\n",
    "cars.append('Buggati')\n",
    "cars"
   ]
  },
  {
   "cell_type": "code",
   "execution_count": 29,
   "id": "a0f54b6a",
   "metadata": {},
   "outputs": [
    {
     "data": {
      "text/plain": [
       "['Tesla', 'Mercedes', 'Bently', 'Ferrari', 'Maybach', 'Buggati']"
      ]
     },
     "execution_count": 29,
     "metadata": {},
     "output_type": "execute_result"
    }
   ],
   "source": [
    "#changing things in a list\n",
    "cars[0]= 'Tesla'\n",
    "cars"
   ]
  },
  {
   "cell_type": "code",
   "execution_count": 30,
   "id": "f41b503e",
   "metadata": {},
   "outputs": [
    {
     "data": {
      "text/plain": [
       "['Scoops', 'spoon']"
      ]
     },
     "execution_count": 30,
     "metadata": {},
     "output_type": "execute_result"
    }
   ],
   "source": [
    "#nested list = this is a list within a list\n",
    "nest_list = ['Vanilla',3,['Scoops','spoon'], True, 'Good']\n",
    "nest_list[2]"
   ]
  },
  {
   "cell_type": "code",
   "execution_count": 31,
   "id": "ea20185c",
   "metadata": {},
   "outputs": [
    {
     "data": {
      "text/plain": [
       "tuple"
      ]
     },
     "execution_count": 31,
     "metadata": {},
     "output_type": "execute_result"
    }
   ],
   "source": [
    "#tuples -can not be modified or changed after it has been created\n",
    "#tuples are created using open parenthesis\n",
    "#tuples are used when the data in them are not expected to change\n",
    "\n",
    "good_day = (1,2,3,4,5,6)\n",
    "type(good_day)"
   ]
  },
  {
   "cell_type": "code",
   "execution_count": 33,
   "id": "e0acdc51",
   "metadata": {},
   "outputs": [
    {
     "data": {
      "text/plain": [
       "set"
      ]
     },
     "execution_count": 33,
     "metadata": {},
     "output_type": "execute_result"
    }
   ],
   "source": [
    "#sets\n",
    "#values within a set cannot be accessed using index because its unordered\n",
    "\n",
    "daily_stoic={1,2,3,4}\n",
    "type(daily_stoic)"
   ]
  },
  {
   "cell_type": "markdown",
   "id": "3eb71e6d",
   "metadata": {},
   "source": [
    "# set"
   ]
  },
  {
   "cell_type": "code",
   "execution_count": 34,
   "id": "daa42190",
   "metadata": {},
   "outputs": [],
   "source": [
    "#more research\n"
   ]
  },
  {
   "cell_type": "code",
   "execution_count": 7,
   "id": "167387fc",
   "metadata": {},
   "outputs": [],
   "source": [
    "#dictionaries\n",
    "#has a key/value pair\n",
    "\n",
    "dict_cream = {'name': 'Brian Michael', 'weekly intake': 5, 'favourite car':['Bently','Buggati','Mercedes']}"
   ]
  },
  {
   "cell_type": "code",
   "execution_count": 8,
   "id": "5ed3cf1b",
   "metadata": {},
   "outputs": [
    {
     "data": {
      "text/plain": [
       "dict"
      ]
     },
     "execution_count": 8,
     "metadata": {},
     "output_type": "execute_result"
    }
   ],
   "source": [
    "type(dict_cream)"
   ]
  },
  {
   "cell_type": "code",
   "execution_count": 9,
   "id": "110a0893",
   "metadata": {},
   "outputs": [
    {
     "name": "stdout",
     "output_type": "stream",
     "text": [
      "{'name': 'Brian Michael', 'weekly intake': 5, 'favourite car': ['Bently', 'Buggati', 'Mercedes']}\n"
     ]
    }
   ],
   "source": [
    "print(dict_cream)"
   ]
  },
  {
   "cell_type": "code",
   "execution_count": 10,
   "id": "5d329b67",
   "metadata": {},
   "outputs": [
    {
     "data": {
      "text/plain": [
       "dict_values(['Brian Michael', 5, ['Bently', 'Buggati', 'Mercedes']])"
      ]
     },
     "execution_count": 10,
     "metadata": {},
     "output_type": "execute_result"
    }
   ],
   "source": [
    "dict_cream.values()"
   ]
  },
  {
   "cell_type": "code",
   "execution_count": 12,
   "id": "72f33b3e",
   "metadata": {},
   "outputs": [
    {
     "data": {
      "text/plain": [
       "dict_keys(['name', 'weekly intake', 'favourite car'])"
      ]
     },
     "execution_count": 12,
     "metadata": {},
     "output_type": "execute_result"
    }
   ],
   "source": [
    "dict_cream.keys()"
   ]
  },
  {
   "cell_type": "code",
   "execution_count": 13,
   "id": "ab5ce900",
   "metadata": {},
   "outputs": [
    {
     "data": {
      "text/plain": [
       "'Brian Michael'"
      ]
     },
     "execution_count": 13,
     "metadata": {},
     "output_type": "execute_result"
    }
   ],
   "source": [
    "#dictionaries are called by the key\n",
    "\n",
    "dict_cream['name']"
   ]
  },
  {
   "cell_type": "code",
   "execution_count": 15,
   "id": "5e49e442",
   "metadata": {},
   "outputs": [
    {
     "name": "stdout",
     "output_type": "stream",
     "text": [
      "{'name': 'Bimax Motors', 'weekly intake': 5, 'favourite car': ['Bently', 'Buggati', 'Mercedes']}\n"
     ]
    }
   ],
   "source": [
    "#you can also update the values within a dictionary\n",
    "\n",
    "dict_cream['name'] = 'Bimax Motors'\n",
    "\n",
    "print(dict_cream)"
   ]
  },
  {
   "cell_type": "code",
   "execution_count": 17,
   "id": "ffc377b2",
   "metadata": {},
   "outputs": [
    {
     "name": "stdout",
     "output_type": "stream",
     "text": [
      "{'name': 'Bimax Motors', 'weekly intake': 5, 'favourite car': ['Genim F12', 'Coldera01', 'Feyup'], 'production cost': 'five million'}\n"
     ]
    }
   ],
   "source": [
    "#you can also update the whole dictionary the one we did before was on updating a single value\n",
    "\n",
    "dict_cream.update({'name': 'Bimax Motors', 'production cost': 'five million', 'favourite car': ['Genim F12', 'Coldera01', 'Feyup']})\n",
    "\n",
    "print(dict_cream)"
   ]
  },
  {
   "cell_type": "code",
   "execution_count": 19,
   "id": "310015e9",
   "metadata": {},
   "outputs": [
    {
     "name": "stdout",
     "output_type": "stream",
     "text": [
      "{'name': 'Bimax Motors', 'favourite car': ['Genim F12', 'Coldera01', 'Feyup'], 'production cost': 'five million'}\n"
     ]
    }
   ],
   "source": [
    "# to delete a value from the dictionary use del before the variable\n",
    "\n",
    "del dict_cream['weekly intake']\n",
    "print(dict_cream)"
   ]
  },
  {
   "cell_type": "markdown",
   "id": "250394a7",
   "metadata": {},
   "source": [
    "# comparison,logical and membership operators in python"
   ]
  },
  {
   "cell_type": "code",
   "execution_count": 20,
   "id": "5066665a",
   "metadata": {},
   "outputs": [
    {
     "data": {
      "text/plain": [
       "True"
      ]
     },
     "execution_count": 20,
     "metadata": {},
     "output_type": "execute_result"
    }
   ],
   "source": [
    "#this contains mathematical operators\n",
    "\n",
    "# equal to (==)\n",
    "\n",
    "10 == 10"
   ]
  },
  {
   "cell_type": "code",
   "execution_count": 21,
   "id": "45e8f23f",
   "metadata": {},
   "outputs": [
    {
     "data": {
      "text/plain": [
       "True"
      ]
     },
     "execution_count": 21,
     "metadata": {},
     "output_type": "execute_result"
    }
   ],
   "source": [
    "#not equal to (!=)\n",
    "\n",
    "10 != 40"
   ]
  },
  {
   "cell_type": "code",
   "execution_count": 22,
   "id": "ef47b12b",
   "metadata": {},
   "outputs": [
    {
     "data": {
      "text/plain": [
       "True"
      ]
     },
     "execution_count": 22,
     "metadata": {},
     "output_type": "execute_result"
    }
   ],
   "source": [
    "'Vanilla' == 'Vanilla'"
   ]
  },
  {
   "cell_type": "code",
   "execution_count": 23,
   "id": "9fcc24f0",
   "metadata": {},
   "outputs": [
    {
     "data": {
      "text/plain": [
       "True"
      ]
     },
     "execution_count": 23,
     "metadata": {},
     "output_type": "execute_result"
    }
   ],
   "source": [
    "x = 'Brian'\n",
    "y = 'Michael'\n",
    "\n",
    "x != y"
   ]
  },
  {
   "cell_type": "code",
   "execution_count": 24,
   "id": "7829da6f",
   "metadata": {},
   "outputs": [
    {
     "data": {
      "text/plain": [
       "True"
      ]
     },
     "execution_count": 24,
     "metadata": {},
     "output_type": "execute_result"
    }
   ],
   "source": [
    "# less than (<)\n",
    "\n",
    "10 < 40"
   ]
  },
  {
   "cell_type": "markdown",
   "id": "ff0d0778",
   "metadata": {},
   "source": [
    "# logical operators"
   ]
  },
  {
   "cell_type": "code",
   "execution_count": null,
   "id": "7b7a6bee",
   "metadata": {},
   "outputs": [],
   "source": [
    "#logical operators often compined with logical operators\n",
    "\n",
    "#And -----returns True if both statements are true\n",
    "#Or ------Returns True if one of the statements is true\n",
    "#Not -----Reverse the result, returns False if the statement is true"
   ]
  },
  {
   "cell_type": "code",
   "execution_count": 25,
   "id": "169e7940",
   "metadata": {},
   "outputs": [
    {
     "data": {
      "text/plain": [
       "False"
      ]
     },
     "execution_count": 25,
     "metadata": {},
     "output_type": "execute_result"
    }
   ],
   "source": [
    "(10 > 50) and (50 < 40)"
   ]
  },
  {
   "cell_type": "code",
   "execution_count": 26,
   "id": "b3bf9674",
   "metadata": {},
   "outputs": [
    {
     "data": {
      "text/plain": [
       "True"
      ]
     },
     "execution_count": 26,
     "metadata": {},
     "output_type": "execute_result"
    }
   ],
   "source": [
    "(70 > 30) and (10 < 30)"
   ]
  },
  {
   "cell_type": "code",
   "execution_count": 27,
   "id": "d2b871e3",
   "metadata": {},
   "outputs": [
    {
     "data": {
      "text/plain": [
       "True"
      ]
     },
     "execution_count": 27,
     "metadata": {},
     "output_type": "execute_result"
    }
   ],
   "source": [
    "(10 > 60) or (0.5 <20)"
   ]
  },
  {
   "cell_type": "code",
   "execution_count": 28,
   "id": "8b08b84d",
   "metadata": {},
   "outputs": [
    {
     "data": {
      "text/plain": [
       "False"
      ]
     },
     "execution_count": 28,
     "metadata": {},
     "output_type": "execute_result"
    }
   ],
   "source": [
    "not(50 > 10)"
   ]
  },
  {
   "cell_type": "markdown",
   "id": "971529ec",
   "metadata": {},
   "source": [
    "# membership operators"
   ]
  },
  {
   "cell_type": "code",
   "execution_count": null,
   "id": "eeb6bc31",
   "metadata": {},
   "outputs": [],
   "source": [
    "#used to check if a value or string is within another value or sequence\n",
    "\n",
    "\n",
    "#In -------Returns True if a sequence with the specified value is present in the object\n",
    "#Not in -----Returns True if a sequence with the specified value is not present in the object"
   ]
  },
  {
   "cell_type": "code",
   "execution_count": 29,
   "id": "9c0cfa65",
   "metadata": {},
   "outputs": [
    {
     "data": {
      "text/plain": [
       "True"
      ]
     },
     "execution_count": 29,
     "metadata": {},
     "output_type": "execute_result"
    }
   ],
   "source": [
    "brian_michael = 'i love cars soo much my guy'\n",
    "'guy' in brian_michael #its like we are looking for the word guy in 'i love cars soo much my guy'"
   ]
  },
  {
   "cell_type": "code",
   "execution_count": 30,
   "id": "65537cd3",
   "metadata": {},
   "outputs": [
    {
     "data": {
      "text/plain": [
       "True"
      ]
     },
     "execution_count": 30,
     "metadata": {},
     "output_type": "execute_result"
    }
   ],
   "source": [
    "'guy' in 'i love cars soo much my guy'"
   ]
  },
  {
   "cell_type": "code",
   "execution_count": 31,
   "id": "a3769a89",
   "metadata": {},
   "outputs": [
    {
     "data": {
      "text/plain": [
       "True"
      ]
     },
     "execution_count": 31,
     "metadata": {},
     "output_type": "execute_result"
    }
   ],
   "source": [
    "_muranga = [1,2,3,34,4,4,5]\n",
    "\n",
    "67 not in _muranga"
   ]
  },
  {
   "cell_type": "markdown",
   "id": "161999b8",
   "metadata": {},
   "source": [
    "# If  -  Elif  -  Else  statements"
   ]
  },
  {
   "cell_type": "code",
   "execution_count": 32,
   "id": "04207191",
   "metadata": {},
   "outputs": [
    {
     "name": "stdout",
     "output_type": "stream",
     "text": [
      "am rich!\n"
     ]
    }
   ],
   "source": [
    "x = 25000000\n",
    "if x == 25000000:\n",
    "    print('am rich!')"
   ]
  },
  {
   "cell_type": "code",
   "execution_count": 34,
   "id": "9bf16af3",
   "metadata": {},
   "outputs": [
    {
     "name": "stdout",
     "output_type": "stream",
     "text": [
      "work harder bro!\n"
     ]
    }
   ],
   "source": [
    "x = 25000000\n",
    "if x > 25000000:\n",
    "    print('am rich!')\n",
    "else:\n",
    "    print('work harder bro!')"
   ]
  },
  {
   "cell_type": "code",
   "execution_count": 35,
   "id": "0439af54",
   "metadata": {},
   "outputs": [
    {
     "name": "stdout",
     "output_type": "stream",
     "text": [
      "good job to me!\n"
     ]
    }
   ],
   "source": [
    "x = 25000000\n",
    "if x > 25000000:\n",
    "    print('am rich!')\n",
    "elif x < 50000000:\n",
    "    print('good job to me!')\n",
    "else:\n",
    "    print('work harder bro!')"
   ]
  },
  {
   "cell_type": "code",
   "execution_count": 36,
   "id": "4ec6892d",
   "metadata": {},
   "outputs": [
    {
     "name": "stdout",
     "output_type": "stream",
     "text": [
      "it did not work ....\n"
     ]
    }
   ],
   "source": [
    "#onother way to write if else statement\n",
    "\n",
    "print('it worked!') if 10 > 30 else print('it did not work ....')"
   ]
  },
  {
   "cell_type": "code",
   "execution_count": null,
   "id": "ff810786",
   "metadata": {},
   "outputs": [],
   "source": [
    "#nested if statement"
   ]
  },
  {
   "cell_type": "markdown",
   "id": "9f92c383",
   "metadata": {},
   "source": [
    "# for loops"
   ]
  },
  {
   "cell_type": "code",
   "execution_count": null,
   "id": "eaac4dfd",
   "metadata": {},
   "outputs": [],
   "source": [
    "#used to do something repeatedly until untill a condition is met"
   ]
  },
  {
   "cell_type": "code",
   "execution_count": 41,
   "id": "50ce6b44",
   "metadata": {},
   "outputs": [
    {
     "name": "stdout",
     "output_type": "stream",
     "text": [
      "jenny\n",
      "Ram\n",
      "Rahul\n",
      "Pagal\n"
     ]
    }
   ],
   "source": [
    "# Syntax  =  For var_name in sequence:                          for the var_name choose something meaningful\n",
    "                #statement(s)\n",
    "\n",
    "puke = ['jenny','Ram', 'Rahul', 'Pagal']\n",
    "\n",
    "\n",
    "for names in puke:\n",
    "    print(names)"
   ]
  },
  {
   "cell_type": "code",
   "execution_count": 42,
   "id": "7ddf2f14",
   "metadata": {},
   "outputs": [],
   "source": [
    "# for loops for dictonaries\n",
    "\n",
    "dict_cream = {'name': 'Brian Michael', 'weekly intake': 5, 'favourite car':['Bently','Buggati','Mercedes']}"
   ]
  },
  {
   "cell_type": "code",
   "execution_count": 43,
   "id": "efc1d569",
   "metadata": {},
   "outputs": [
    {
     "name": "stdout",
     "output_type": "stream",
     "text": [
      "Brian Michael\n",
      "5\n",
      "['Bently', 'Buggati', 'Mercedes']\n"
     ]
    }
   ],
   "source": [
    "for bull in dict_cream.values():    #to print values\n",
    "    print(bull)"
   ]
  },
  {
   "cell_type": "code",
   "execution_count": 44,
   "id": "4581d96b",
   "metadata": {},
   "outputs": [
    {
     "name": "stdout",
     "output_type": "stream",
     "text": [
      "name\n",
      "weekly intake\n",
      "favourite car\n"
     ]
    }
   ],
   "source": [
    "for pig in dict_cream.keys():      #to print keys\n",
    "    print(pig)"
   ]
  },
  {
   "cell_type": "code",
   "execution_count": 45,
   "id": "84036b0a",
   "metadata": {},
   "outputs": [
    {
     "name": "stdout",
     "output_type": "stream",
     "text": [
      "name -> Brian Michael\n",
      "weekly intake -> 5\n",
      "favourite car -> ['Bently', 'Buggati', 'Mercedes']\n"
     ]
    }
   ],
   "source": [
    "for keys,value in dict_cream.items():   # to print out both keys and values\n",
    "    print(keys,'->',value)"
   ]
  },
  {
   "cell_type": "code",
   "execution_count": 46,
   "id": "91bd6ab3",
   "metadata": {},
   "outputs": [],
   "source": [
    "#nested for loop"
   ]
  },
  {
   "cell_type": "code",
   "execution_count": 47,
   "id": "f83b58ee",
   "metadata": {},
   "outputs": [],
   "source": [
    "flavors = ['Vanilla', 'Chocolate', 'Cookie Dough']\n",
    "toppings = ['Hot Fudge', 'Oreos', 'Marshmallo']"
   ]
  },
  {
   "cell_type": "code",
   "execution_count": 48,
   "id": "314203ea",
   "metadata": {},
   "outputs": [
    {
     "name": "stdout",
     "output_type": "stream",
     "text": [
      "Vanilla topped with Hot Fudge\n",
      "Vanilla topped with Oreos\n",
      "Vanilla topped with Marshmallo\n",
      "Chocolate topped with Hot Fudge\n",
      "Chocolate topped with Oreos\n",
      "Chocolate topped with Marshmallo\n",
      "Cookie Dough topped with Hot Fudge\n",
      "Cookie Dough topped with Oreos\n",
      "Cookie Dough topped with Marshmallo\n"
     ]
    }
   ],
   "source": [
    "for one in flavors:\n",
    "    for two in toppings:\n",
    "        print(one, 'topped with', two)"
   ]
  },
  {
   "cell_type": "markdown",
   "id": "b508aa00",
   "metadata": {},
   "source": [
    "# while loops"
   ]
  },
  {
   "cell_type": "code",
   "execution_count": 2,
   "id": "5c1bb3de",
   "metadata": {},
   "outputs": [
    {
     "name": "stdout",
     "output_type": "stream",
     "text": [
      "0\n",
      "1\n",
      "2\n",
      "3\n",
      "4\n"
     ]
    }
   ],
   "source": [
    "num = 0\n",
    "\n",
    "while num < 5:\n",
    "    print(num)\n",
    "    num = num + 1"
   ]
  },
  {
   "cell_type": "code",
   "execution_count": 3,
   "id": "5ae1d4f7",
   "metadata": {},
   "outputs": [
    {
     "name": "stdout",
     "output_type": "stream",
     "text": [
      "0\n",
      "1\n",
      "2\n",
      "3\n",
      "4\n"
     ]
    }
   ],
   "source": [
    "# breaking while loop  --- you use break to break out of a loop even if the statement is true\n",
    "\n",
    "\n",
    "num = 0\n",
    "\n",
    "while num < 7:\n",
    "    print(num)\n",
    "    if num == 4:\n",
    "        break\n",
    "    num = num + 1"
   ]
  },
  {
   "cell_type": "code",
   "execution_count": 4,
   "id": "b727c593",
   "metadata": {},
   "outputs": [
    {
     "name": "stdout",
     "output_type": "stream",
     "text": [
      "0\n",
      "1\n",
      "2\n",
      "3\n",
      "4\n",
      "no longer < 5\n"
     ]
    }
   ],
   "source": [
    "#else statement in a while loop\n",
    "\n",
    "num = 0\n",
    "while num < 5:\n",
    "    print(num)\n",
    "    if num == 7:\n",
    "        break\n",
    "    num = num+1\n",
    "else:\n",
    "    print('no longer < 5')"
   ]
  },
  {
   "cell_type": "code",
   "execution_count": null,
   "id": "ceda467b",
   "metadata": {},
   "outputs": [],
   "source": [
    "#continue statement in a while loop"
   ]
  },
  {
   "cell_type": "code",
   "execution_count": null,
   "id": "f077bcf0",
   "metadata": {},
   "outputs": [],
   "source": [
    "# this will lead to a infinate loop\n",
    "\n",
    "num = 0\n",
    "while num < 5:\n",
    "    print(num)\n",
    "    if num == 3:\n",
    "        continue\n",
    "    num = num+1\n",
    "else:\n",
    "    print('no longer < 5')"
   ]
  },
  {
   "cell_type": "code",
   "execution_count": 1,
   "id": "d2dbbe98",
   "metadata": {},
   "outputs": [
    {
     "name": "stdout",
     "output_type": "stream",
     "text": [
      "1\n",
      "2\n",
      "4\n",
      "5\n",
      "no longer < 5\n"
     ]
    }
   ],
   "source": [
    "# 3 won't be printed out\n",
    "\n",
    "num = 0\n",
    "while num < 5:\n",
    "    num = num+1\n",
    "    if num == 3:\n",
    "        continue\n",
    "    print(num)\n",
    "else:\n",
    "    print('no longer < 5')"
   ]
  },
  {
   "cell_type": "code",
   "execution_count": null,
   "id": "6eed7011",
   "metadata": {},
   "outputs": [],
   "source": []
  }
 ],
 "metadata": {
  "kernelspec": {
   "display_name": "Python 3 (ipykernel)",
   "language": "python",
   "name": "python3"
  },
  "language_info": {
   "codemirror_mode": {
    "name": "ipython",
    "version": 3
   },
   "file_extension": ".py",
   "mimetype": "text/x-python",
   "name": "python",
   "nbconvert_exporter": "python",
   "pygments_lexer": "ipython3",
   "version": "3.9.12"
  }
 },
 "nbformat": 4,
 "nbformat_minor": 5
}
